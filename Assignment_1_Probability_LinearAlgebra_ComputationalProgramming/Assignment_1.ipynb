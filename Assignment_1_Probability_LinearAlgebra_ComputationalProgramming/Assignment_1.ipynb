{
 "cells": [
  {
   "cell_type": "markdown",
   "metadata": {},
   "source": [
    "# Assignment 1 - Probability, Linear Algebra, & Computational Programming"
   ]
  },
  {
   "cell_type": "markdown",
   "metadata": {},
   "source": [
    "## *BARBARA FLORES RIOS*\n",
    "Netid: bpf17\n",
    "\n",
    "Note: this assignment falls under collaboration Mode 2: Individual Assignment – Collaboration Permitted. Please refer to the syllabus for additional information."
   ]
  },
  {
   "cell_type": "markdown",
   "metadata": {},
   "source": [
    "Instructions for all assignments can be found [here](https://kylebradbury.github.io/ids705/notebooks/assignment_instructions.html), and are also linked to from the course syllabus.\n",
    "\n",
    "Total points in the assignment add up to 90; an additional 10 points are allocated to professionalism and presentation quality."
   ]
  },
  {
   "attachments": {},
   "cell_type": "markdown",
   "metadata": {},
   "source": [
    "#  Learning Objectives\n",
    "The purpose of this assignment is to provide a refresher on fundamental concepts that we will use throughout this course and provide an opportunity to develop skills in any of the related skills that may be unfamiliar to you. Through the course of completing this assignment, you will... \n",
    "\n",
    "- Refresh you knowledge of probability theory including properties of random variables, probability density functions,  cumulative distribution functions, and key statistics such as mean and variance.\n",
    "- Revisit common linear algebra and matrix operations and concepts such as matrix multiplication, inner and outer products, inverses, the Hadamard (element-wise) product, eigenvalues and eigenvectors, orthogonality, and symmetry.\n",
    "- Practice numerical programming, core to machine learning, by loading and filtering data, plotting data, vectorizing operations, profiling code speed, and debugging and optimizing performance. You will also practice computing probabilities based on simulation.\n",
    "- Develop or refresh your knowledge of Git version control, which will be a core tool used in the final project of this course\n",
    "- Apply your skills altogether through an exploratory data analysis to practice data cleaning, data manipulation, interpretation, and communication \n",
    "\n",
    "We will build on these concepts throughout the course, so use this assignment as a catalyst to deepen your knowledge and seek help with anything unfamiliar.\n",
    "\n",
    "If some references would be helpful on these topics, I would recommend the following resources:\n",
    "- [Mathematics for Machine Learning](https://mml-book.github.io/book/mml-book.pdf) by Deisenroth, Faisal, and Ong\n",
    "- [Deep Learning](https://www.deeplearningbook.org/); Part I: Applied Math and Machine Learning Basics by Goodfellow, Bengio, and Courville\n",
    "- [The Matrix Calculus You Need For Deep Learning](https://arxiv.org/pdf/1802.01528.pdf) by Parr and Howard\n",
    "- [Dive Into Deep Learning](https://d2l.ai/chapter_appendix-mathematics-for-deep-learning/index.html); Appendix: Mathematics for Deep Learning by Weness, Hu, et al.\n",
    "\n",
    "*Note: don't worry if you don't understand everything in the references above - some of these books dive into significant minutia of each of these topics.*"
   ]
  },
  {
   "cell_type": "code",
   "execution_count": 1,
   "metadata": {},
   "outputs": [],
   "source": [
    "import pandas as pd\n",
    "import numpy as np\n",
    "import matplotlib.pyplot as plt\n",
    "import seaborn as sns\n",
    "import time"
   ]
  },
  {
   "attachments": {},
   "cell_type": "markdown",
   "metadata": {},
   "source": [
    "---\n",
    "\n",
    "# Probability and Statistics Theory"
   ]
  },
  {
   "attachments": {},
   "cell_type": "markdown",
   "metadata": {},
   "source": [
    "*Note: for all assignments, write out equations and math using markdown and [LaTeX](https://tobi.oetiker.ch/lshort/lshort.pdf). I recommend that you complete the work on paper before typing up the final version. For this assignment show your math for questions 1-4, meaning that you should include any intermediate steps necessary to understand the logic of your solution. Most can be completed in 3-4 steps. Being proficient in expressing yourself clearly, sometimes mathematically, is a valuable skill to have as a data scientist*"
   ]
  },
  {
   "attachments": {},
   "cell_type": "markdown",
   "metadata": {},
   "source": [
    "## 1\n",
    "**[3 points]**  \n",
    "Let $f(x) = \\begin{cases}\n",
    "                0           & x < 0  \\\\\n",
    "                \\alpha x^2  & 0 \\leq x \\leq 2 \\\\\n",
    "                0           & 2 < x\n",
    "            \\end{cases}$\n",
    "            \n",
    "For what value of $\\alpha$ is $f(x)$ a valid probability density function?"
   ]
  },
  {
   "cell_type": "markdown",
   "metadata": {},
   "source": [
    "**ANSWER**"
   ]
  },
  {
   "cell_type": "markdown",
   "metadata": {},
   "source": [
    ">To calculate the value of $\\alpha$ , we need to consider that the area under the curve of the probability density function should be equal to 1.\n",
    ">\n",
    ">So, first, we proceed to calculate the integral of the function. We won't consider the constants in the integral since we have defined the limits at which we want to evaluate it.\n",
    ">\n",
    ">Let $f'(x) = \\begin{cases}\n",
    ">                0           & x < 0  \\\\\n",
    ">                \\frac{1}{3} \\alpha x^3  & 0 \\leq x \\leq 2 \\\\\n",
    ">                0          & 2 < x\n",
    ">            \\end{cases}$"
   ]
  },
  {
   "cell_type": "markdown",
   "metadata": {},
   "source": [
    "\n",
    ">The area under the curve of $f(x)$ is 0 when $x < 0$ and when $x > 2$, so we will only consider the interval $0 \\leq x \\leq 2$.\n",
    ">So we calculate the following:\n",
    ">\n",
    ">\n",
    ">$$\\\n",
    ">\\int_{0}^{2} \\alpha x^2 \\,dx = \\frac{1}{3} \\alpha x^3 \\Big|_{0}^{2} = 1\n",
    ">$$\n",
    ">\n",
    ">$$\n",
    ">\\frac{\\alpha}{3}(2)^3 -  \\frac{\\alpha}{3}(0)^3   = 1\n",
    ">$$\n",
    ">\n",
    ">$$\n",
    ">\\frac{8\\alpha}{3} = 1\n",
    ">$$\n",
    ">\n",
    ">$$\n",
    ">\\alpha = \\frac{3}{8}\n",
    ">$$\n",
    ">\n",
    ">So, in the end, we obtain that $\\alpha = \\frac{3}{8}$ to ensure that our probability density function is valid."
   ]
  },
  {
   "attachments": {},
   "cell_type": "markdown",
   "metadata": {},
   "source": [
    "---\n",
    "\n",
    "## 2\n",
    "**[3 points]** What is the cumulative distribution function (CDF) that corresponds to the following probability distribution function? Please state the value of the CDF for all possible values of $x$.\n",
    "\n",
    "$f(x) = \\begin{cases}\n",
    "    \\frac{1}{3} & 0 < x < 3 \\\\\n",
    "    0           & \\text{otherwise}\n",
    "    \\end{cases}$"
   ]
  },
  {
   "cell_type": "markdown",
   "metadata": {},
   "source": [
    "**ANSWER**"
   ]
  },
  {
   "cell_type": "markdown",
   "metadata": {},
   "source": [
    "> The cumulative distribution function would be the integral of the probability distribution function between $-\\infty$ and x\n",
    ">\n",
    ">Let's consider the interval $-\\infty < x < 0$.\n",
    ">\n",
    ">$$\n",
    ">\\int_{-\\infty}^{x} 0 \\  dx  = 0\n",
    ">$$"
   ]
  },
  {
   "cell_type": "markdown",
   "metadata": {},
   "source": [
    ">Let's consider the interval $-\\infty < x < 3$.\n",
    ">\n",
    ">$$\n",
    ">\\int_{-\\infty}^{0} 0 \\  dx + \\int_{0}^{x} \\frac{1}{3}\\,dx\n",
    ">$$\n",
    ">$$ \n",
    ">= 0 + \\frac{1}{3}x \\Big|_{0}^{x}  \n",
    ">$$\n",
    ">$$ \n",
    ">= \\frac{1}{3}(x) -  \\frac{1}{3}(0)\n",
    ">$$\n",
    ">$$ \n",
    ">= \\frac{1}{3}x \n",
    ">$$\n",
    " \n"
   ]
  },
  {
   "cell_type": "markdown",
   "metadata": {},
   "source": [
    ">Let's consider the interval $3 < x $.\n",
    ">\n",
    ">$$\n",
    ">\\int_{-\\infty}^{0} 0 \\  dx + \\int_{0}^{3} \\frac{1}{3}\\,dx  + \\int_{3}^{x} 0 \\  dx \n",
    ">$$\n",
    ">$$ \n",
    ">= 0 + \\frac{1}{3}x \\Big|_{0}^{3}  + 0\n",
    ">$$\n",
    ">$$ \n",
    ">= \\frac{1}{3}(3) -  \\frac{1}{3}(0)\n",
    ">$$\n",
    ">$$ \n",
    ">= 1\n",
    ">$$\n",
    " "
   ]
  },
  {
   "cell_type": "markdown",
   "metadata": {},
   "source": [
    "> So, our cumulative distribution function (CDF) would be:\n",
    ">\n",
    ">$CDF = F(x) = \\begin{cases}\n",
    "    0           & x < 0 \\\\\n",
    "    \\frac{x}{3} & 0 < x < 3 \\\\\n",
    "    1           & 3 < x\n",
    "    \\end{cases}$"
   ]
  },
  {
   "attachments": {},
   "cell_type": "markdown",
   "metadata": {},
   "source": [
    "---\n",
    "\n",
    "## 3\n",
    "**[6 points]** For the probability distribution function for the random variable $X$,\n",
    "\n",
    "$f(x) = \\begin{cases}\n",
    "    \\frac{1}{3} & 0 < x < 3 \\\\\n",
    "    0           & \\text{otherwise}\n",
    "    \\end{cases}$\n",
    "    \n",
    "what is the (a) expected value and (b) variance of $X$. *Show all work*."
   ]
  },
  {
   "cell_type": "markdown",
   "metadata": {},
   "source": [
    "**ANSWER**"
   ]
  },
  {
   "cell_type": "markdown",
   "metadata": {},
   "source": [
    ">a)\n",
    ">$$\n",
    ">E(X) = \\int_{-\\infty}^{\\infty} xf(x) \\  dx\n",
    ">$$ \n",
    ">\n",
    ">$$\n",
    ">E(X) =\\int_{-\\infty}^{0} xf(x)  \\  dx + \\int_{0}^{3} xf(x) \\,dx  + \\int_{3}^{x} xf(x)  \\  dx \n",
    ">$$\n",
    ">\n",
    ">$$\n",
    ">E(X) =\\int_{-\\infty}^{0} x*0  \\  dx + \\int_{0}^{3} x\\frac{1}{3} \\,dx  + \\int_{3}^{x} x*0  \\  dx \n",
    ">$$\n",
    ">$$\n",
    ">E(X) =0  + \\frac{1}{6}x^2 \\Big|_{0}^{3}  + 0\n",
    ">$$\n",
    ">\n",
    ">$$\n",
    ">E(X) = \\frac{1}{6}(3)^2 - \\frac{1}{6}(0)^2\n",
    ">$$\n",
    ">$$\n",
    ">E(X) = \\frac{3}{2} \n",
    ">$$"
   ]
  },
  {
   "cell_type": "markdown",
   "metadata": {},
   "source": [
    ">b)\n",
    ">$$\n",
    ">\\sigma^2 = E[(X-\\mu)^2] \n",
    ">$$ \n",
    ">$$\n",
    ">\\sigma^2 = E(X^2) -  [E(X)]^2\n",
    ">$$ "
   ]
  },
  {
   "cell_type": "markdown",
   "metadata": {},
   "source": [
    "> Since we have already calculated the value of $E(x)$ in the previous exercise, the only thing left is to calculate the value of $E(X^2)$\n",
    ">\n",
    ">$$\n",
    ">E(X^2) = \\int_{-\\infty}^{\\infty} x^2f(x) \\  dx\n",
    ">$$ \n",
    ">\n",
    ">$$\n",
    ">E(X^2) =\\int_{-\\infty}^{0} x^2f(x)  \\  dx + \\int_{0}^{3} x^2f(x) \\,dx  + \\int_{3}^{x} x^2f(x)  \\  dx \n",
    ">$$\n",
    ">\n",
    ">$$\n",
    ">E(X^2) =\\int_{-\\infty}^{0} x^2*0  \\  dx + \\int_{0}^{3} x^2\\frac{1}{3} \\,dx  + \\int_{3}^{x} x^2*0  \\  dx \n",
    ">$$\n",
    ">$$\n",
    ">E(X^2) =0  + \\frac{1}{9}x^3 \\Big|_{0}^{3}  + 0\n",
    ">$$\n",
    ">\n",
    ">$$\n",
    ">E(X^2) = \\frac{1}{9}(3)^3 - \\frac{1}{9}(0)^3\n",
    ">$$\n",
    ">$$\n",
    ">E(X^2) = 3\n",
    ">$$"
   ]
  },
  {
   "cell_type": "markdown",
   "metadata": {},
   "source": [
    ">Finally, we substitute into the variance formula, and we have that\n",
    ">$$\n",
    ">\\sigma^2 = E(X^2) -  [E(X)]^2\n",
    ">$$ \n",
    ">$$\n",
    ">\\sigma^2 = 3 -  (\\frac{3}{2} )^2\n",
    ">$$ \n",
    ">$$\n",
    ">\\sigma^2 = \\frac{3}{4} \n",
    ">$$ "
   ]
  },
  {
   "cell_type": "markdown",
   "metadata": {},
   "source": [
    "## 4\n",
    "**[6 points]** \n",
    "You are given the training data below and asked to determine the probability that a sample of $x=0.54$ comes from class 1, or equivalently, $P(Y=1|X=0.54)$. The feature, $x$, can take on real values between 0 and 1.\n",
    "\n",
    "| $x$ value range | Negative data samples ($x$,$y=0$) | Positive data samples ($x$,$y=1$) |\n",
    "| -- | -- | -- |\n",
    "| 0.0 - 0.1 | (0.05,0),(0.07,0)|   None   |\n",
    "| 0.1 - 0.2 | (0.11,0),(0.13,0),(0.19,0) | (0.14,1) |\n",
    "| 0.2 - 0.3 | (0.23,0) | (0.24,1) |\n",
    "| 0.3 - 0.4 | (0.35,0), (0.37,0)| (0.32,1) |\n",
    "| 0.4 - 0.5 | (0.49,0) | (0.47,1) |\n",
    "| 0.5 - 0.6 | (0.51,0) | (0.53,1) |\n",
    "| 0.6 - 0.7 |   None   | (0.61,1) |\n",
    "| 0.7 - 0.8 |   None   | (0.77,1) |\n",
    "| 0.8 - 0.9 |   None   | (0.83,1) |\n",
    "| 0.9 - 1.0 |   None   | (0.92,1),(0.98,1) |\n",
    "\n",
    "Note: *You don't need to use these data directly*, but this provides an example of how the data could be distributed to form the empirical likelihoods and priors shown below.\n",
    "\n",
    "You're likely familiar with Bayes' Rule, which for discrete random variables states that:"
   ]
  },
  {
   "cell_type": "markdown",
   "metadata": {},
   "source": [
    "\\begin{equation*}\n",
    "P(Y|X)= \\frac{P(X|Y)P(Y)}{P(X)}\n",
    "\\end{equation*}"
   ]
  },
  {
   "cell_type": "markdown",
   "metadata": {},
   "source": [
    "Additionally, $P(X) = \\sum_y P(X|Y=y)P(Y=y)$"
   ]
  },
  {
   "cell_type": "markdown",
   "metadata": {},
   "source": [
    "In our case, however, the variable Y is discrete but the variable X is continuous, so we express this function a bit differently. We can compute the poster probability, $P(Y|X)$, based on the likelihood function of the data conditioned on the class of the samples, $f_{X|Y}(x,y)$, the prior $P(Y)$ which is essentially the distribution of the class labels across all the data, and the evidence $f_X(x)$ which is the probability distribution function of the features, $X$, regardless of class labels:"
   ]
  },
  {
   "cell_type": "markdown",
   "metadata": {},
   "source": [
    "\n",
    "\\begin{equation*}\n",
    "P(Y=y|X=x)= \\frac{f_{X|Y}(x,y)P(Y=y)}{f_X(x)}\n",
    "\\end{equation*}"
   ]
  },
  {
   "cell_type": "markdown",
   "metadata": {},
   "source": [
    "Also, note that $f_X(x)$ can be computed in this case (due to the discrete Y values of 0 and 1) as:"
   ]
  },
  {
   "cell_type": "markdown",
   "metadata": {},
   "source": [
    "\\begin{equation*}\n",
    "f_X(x) = f_{X|Y}(x,y=0)P(Y=0) + f_{X|Y}(x,y=1)P(Y=1)\n",
    "\\end{equation*}"
   ]
  },
  {
   "cell_type": "markdown",
   "metadata": {},
   "source": [
    "Below are the prior and the likelihood functions based on the dataset above. Note that here we use $P(\\cdot)$ to note a probability and $f(\\cdot)$ to note a probability distribution function."
   ]
  },
  {
   "cell_type": "markdown",
   "metadata": {},
   "source": [
    "<img src=\"img/a1_py.png\" width=400>"
   ]
  },
  {
   "cell_type": "markdown",
   "metadata": {},
   "source": [
    "<img src=\"img/a1_pxy.png\"  width=\"600\">"
   ]
  },
  {
   "cell_type": "markdown",
   "metadata": {},
   "source": [
    "1. What is $f_{X|Y}(x=0.54,y=1)P(Y=1)$?\n",
    "2. What is $f_X(x=0.54)$?\n",
    "3. What is $P(Y=1|X=0.54)$?"
   ]
  },
  {
   "cell_type": "markdown",
   "metadata": {},
   "source": [
    "*Show each value you use for each computation.*"
   ]
  },
  {
   "cell_type": "markdown",
   "metadata": {},
   "source": [
    "**ANSWER**\n",
    "\n",
    ">\n",
    ">1. \n",
    ">\n",
    ">First, given the first graph, we know that\n",
    ">\n",
    ">$P(Y=0) = \\frac{1}{3}$ \n",
    ">\n",
    ">$P(Y=1) = \\frac{2}{3}$ \n",
    ">\n",
    ">On the other hand, in the second graph, we can see that:\n",
    ">\n",
    ">$f_{X|Y}(x=0.54,y=1) = 1$\n",
    ">\n",
    ">therefore:\n",
    ">\n",
    "> $f_{X|Y}(x=0.54,y=1)P(Y=1) = 1 * \\frac{2}{3}$  \n",
    ">\n",
    "> $f_{X|Y}(x=0.54,y=1)P(Y=1) = \\frac{2}{3}$"
   ]
  },
  {
   "cell_type": "markdown",
   "metadata": {},
   "source": [
    "> 2\n",
    ">\n",
    ">\\begin{equation*}\n",
    ">f_X(x) = f_{X|Y}(x,y=0)P(Y=0) + f_{X|Y}(x,y=1)P(Y=1)\n",
    ">\\end{equation*}\n",
    ">\n",
    ">\\begin{equation*}\n",
    ">f_X(x=0.54) = 1*\\frac{1}{3} + 1*\\frac{2}{3}\n",
    ">\\end{equation*}\n",
    ">\n",
    ">\\begin{equation*}\n",
    ">f_X(x=0.54) = 1\n",
    ">\\end{equation*}"
   ]
  },
  {
   "cell_type": "markdown",
   "metadata": {},
   "source": [
    ">3\n",
    ">\n",
    ">given\n",
    ">\\begin{equation*}\n",
    ">P(Y=y|X=x)= \\frac{f_{X|Y}(x,y)P(Y=y)}{f_X(x)}\n",
    ">\\end{equation*}\n",
    ">\n",
    ">Then:\n",
    ">\n",
    ">\\begin{equation*}\n",
    ">P(Y=1|X=0.54)= \\frac{f_{X|Y}(x=0.54,y=1)P(Y=1)}{f_X(x=0.54)}   \n",
    ">\\end{equation*}\n",
    ">\n",
    ">\\begin{equation*}\n",
    ">P(Y=1|X=0.54)= \\frac{\\frac{2}{3}}{1}   \n",
    ">\\end{equation*}\n",
    ">\n",
    ">\\begin{equation*}\n",
    ">P(Y=1|X=0.54)= \\frac{2}{3} \n",
    ">\\end{equation*}\n"
   ]
  },
  {
   "attachments": {},
   "cell_type": "markdown",
   "metadata": {},
   "source": [
    "---\n",
    "\n",
    "# Linear Algebra"
   ]
  },
  {
   "attachments": {},
   "cell_type": "markdown",
   "metadata": {},
   "source": [
    "# 5\n",
    "\n",
    "**[5 points]** A common task in machine learning is a change of basis: transforming the representation of our data from one space to another. A prime example of this is through the process of dimensionality reduction as in Principle Components Analysis where we often seek to transform our data from one space (of dimension $n$) to a new space (of dimension $m$) where $m<n$. Assume we have a sample of data of dimension $n=4$ (as shown below) and we want to transform it into a dimension of $m=2$.\n",
    "\n",
    "$\\mathbf{x} =  \\begin{bmatrix}\n",
    "x_1 \\\\\n",
    "x_2 \\\\\n",
    "x_3 \\\\\n",
    "x_4 \n",
    "\\end{bmatrix}$"
   ]
  },
  {
   "attachments": {},
   "cell_type": "markdown",
   "metadata": {},
   "source": [
    "(a) What are the dimensions of a matrix, $\\mathbf{A}$, that would linearly transform our sample of data, $\\mathbf{x}$, into a space of $m=2$ through the operation $\\mathbf{Ax}$?\n",
    "\n",
    "(b) Express this transformation in terms of the components of $\\mathbf{x}$: $x_1$, $x_2$, $x_3$, $x_4$ and the matrix $\\mathbf{A}$ where each entry in the matrix is denoted as $a_{i,j}$ (e.g. the entry in the first row and second column would be $a_{1,2}$). Your answer will be in the form of a matrix expressing result of the product $\\mathbf{Ax}$.\n",
    "\n",
    "*Note: please write your answers here in LaTeX*"
   ]
  },
  {
   "attachments": {},
   "cell_type": "markdown",
   "metadata": {},
   "source": [
    "**ANSWER**"
   ]
  },
  {
   "cell_type": "markdown",
   "metadata": {},
   "source": [
    ">a)  Let $\\mathbf{y}$ be the matrix resulting from the transformation of $\\mathbf{x}$ into a space of $m=2$. \n",
    ">\n",
    ">$\\mathbf{y}$ will have dimensions 2x1\n",
    ">\n",
    ">$\\mathbf{y} =  \\begin{bmatrix}\n",
    ">y_1 \\\\\n",
    ">y_2 \n",
    ">\\end{bmatrix}$\n",
    ">\n",
    "> Then, \n",
    ">\n",
    ">$\\mathbf{Ax} = \\mathbf{y}$\n",
    ">\n",
    ">$A\\begin{bmatrix}\n",
    ">x_1 \\\\\n",
    ">x_2 \\\\\n",
    ">x_3 \\\\\n",
    ">x_4 \n",
    ">\\end{bmatrix}$ $ = \\begin{bmatrix}\n",
    ">y_1 \\\\\n",
    ">y_2 \n",
    ">\\end{bmatrix}$\n",
    ">\n",
    ">So **$\\mathbf{A}$ should have dimensions 2x4**. \n",
    ">\n",
    ">In this way, it is ensured that the resulting matrix from the multiplication of $\\mathbf{A}$ (2x4) by $\\mathbf{x}$ (4x1) is $\\mathbf{y}$ with dimensions 2x1.\n",
    "\n"
   ]
  },
  {
   "cell_type": "markdown",
   "metadata": {},
   "source": [
    ">b)\n",
    ">\n",
    ">$\\begin{bmatrix}\n",
    ">a_{11} & a_{12} & a_{13} & a_{14} \\\\\n",
    ">a_{21} & a_{22} & a_{23} & a_{24}\n",
    ">\\end{bmatrix}$ $\\begin{bmatrix}\n",
    ">x_1 \\\\\n",
    ">x_2 \\\\\n",
    ">x_3 \\\\\n",
    ">x_4 \n",
    ">\\end{bmatrix}$  $ = \\begin{bmatrix}\n",
    ">y_1 \\\\\n",
    ">y_2 \n",
    ">\\end{bmatrix}$\n",
    ">\n",
    ">$\\begin{bmatrix}\n",
    ">a_{11} & a_{12} & a_{13} & a_{14} \\\\\n",
    ">a_{21} & a_{22} & a_{23} & a_{24}\n",
    ">\\end{bmatrix}$ $\\begin{bmatrix}\n",
    ">x_1 \\\\\n",
    ">x_2 \\\\\n",
    ">x_3 \\\\\n",
    ">x_4 \n",
    ">\\end{bmatrix}$  $ = \\begin{bmatrix}\n",
    ">a_{11}x_1 + a_{12}x_2 + a_{13}x_3 + a_{14}x_4 \\\\\n",
    ">a_{21}x_1 + a_{22}x_2 + a_{23}x_3 + a_{24}x_4 \n",
    ">\\end{bmatrix}$"
   ]
  },
  {
   "attachments": {},
   "cell_type": "markdown",
   "metadata": {},
   "source": [
    "---\n",
    "\n",
    "## 6\n",
    "**[14 points]** **Matrix manipulations and multiplication**. Machine learning involves working with many matrices, so this exercise will provide you with the opportunity to practice those skills.\n",
    "\n",
    "Let\n",
    "$\\mathbf{A} =  \\begin{bmatrix}\n",
    "1 & 2 & 3 \\\\\n",
    "2 & 4 & 5 \\\\\n",
    "3 & 5 & 6 \n",
    "\\end{bmatrix}$, $\\mathbf{b} =  \\begin{bmatrix}\n",
    "-1  \\\\\n",
    "3  \\\\\n",
    "8  \n",
    "\\end{bmatrix}$, $\\mathbf{c} =  \\begin{bmatrix}\n",
    "4  \\\\\n",
    "-3  \\\\\n",
    "6  \n",
    "\\end{bmatrix}$, and $\\mathbf{I} =  \\begin{bmatrix}\n",
    "1 & 0 & 0 \\\\\n",
    "0 & 1 & 0 \\\\\n",
    "0 & 0 & 1 \n",
    "\\end{bmatrix}$\n",
    "\n",
    "Compute the following **using Python** or indicate that it cannot be computed. Refer to NumPy's tools for handling matrices. While all answers should be computer using Python, your response to whether each item can be computed should refer to underlying linear algebra. There may be circumstances when Python will produce an output, but based on the dimensions of the matrices involved, the linear algebra operation is not possible. **For the case when an operation is invalid, explain why it is not.**\n",
    "\n",
    "When the quantity can be computed, please provide both the Python code AND the output of that code (this need not be in LaTex)\n",
    "\n",
    "1. $\\mathbf{A}\\mathbf{A}$\n",
    "2. $\\mathbf{A}\\mathbf{A}^T$\n",
    "3. $\\mathbf{A}\\mathbf{b}$\n",
    "4. $\\mathbf{A}\\mathbf{b}^T$\n",
    "5. $\\mathbf{b}\\mathbf{A}$\n",
    "6. $\\mathbf{b}^T\\mathbf{A}$\n",
    "7. $\\mathbf{b}\\mathbf{b}$\n",
    "8. $\\mathbf{b}^T\\mathbf{b}$\n",
    "9. $\\mathbf{b}\\mathbf{b}^T$\n",
    "10. $\\mathbf{b} + \\mathbf{c}^T$\n",
    "11. $\\mathbf{b}^T\\mathbf{b}^T$\n",
    "12. $\\mathbf{A}^{-1}\\mathbf{b}$\n",
    "13. $\\mathbf{A}\\circ\\mathbf{A}$\n",
    "14. $\\mathbf{b}\\circ\\mathbf{c}$\n",
    "\n",
    "*Note: The element-wise (or Hadamard) product is the product of each element in one matrix with the corresponding element in another matrix, and is represented by the symbol \"$\\circ$\".*"
   ]
  },
  {
   "cell_type": "code",
   "execution_count": 2,
   "metadata": {},
   "outputs": [],
   "source": [
    "A = np.array([[1, 2, 3], [2, 4, 5], [3, 5, 6]])\n",
    "b = np.array([[-1], [3], [8]])\n",
    "c = np.array([[4], [-3], [6]])\n",
    "I = np.identity(3)"
   ]
  },
  {
   "cell_type": "code",
   "execution_count": 3,
   "metadata": {},
   "outputs": [
    {
     "name": "stdout",
     "output_type": "stream",
     "text": [
      "1. AA =\n",
      "\n",
      "[[14 25 31]\n",
      " [25 45 56]\n",
      " [31 56 70]]\n"
     ]
    }
   ],
   "source": [
    "print(f\"1. AA =\\n\\n{A@A}\")"
   ]
  },
  {
   "cell_type": "code",
   "execution_count": 4,
   "metadata": {},
   "outputs": [
    {
     "name": "stdout",
     "output_type": "stream",
     "text": [
      "2. AA.T =\n",
      "\n",
      "[[14 25 31]\n",
      " [25 45 56]\n",
      " [31 56 70]]\n"
     ]
    }
   ],
   "source": [
    "print(f\"2. AA.T =\\n\\n{A@A.T}\")"
   ]
  },
  {
   "cell_type": "code",
   "execution_count": 5,
   "metadata": {},
   "outputs": [
    {
     "name": "stdout",
     "output_type": "stream",
     "text": [
      "3. Ab =\n",
      "\n",
      "[[29]\n",
      " [50]\n",
      " [60]]\n"
     ]
    }
   ],
   "source": [
    "print(f\"3. Ab =\\n\\n{A@b}\")"
   ]
  },
  {
   "cell_type": "markdown",
   "metadata": {},
   "source": [
    ">4. $\\mathbf{A}\\mathbf{b}^T$\n",
    ">\n",
    ">It is not possible to multiply A by the transpose of b since the dimensions of the first matrix are 3x3, and the dimensions of the second matrix are 1x3. Matrix multiplication is defined only when the number of columns in the first matrix is equal to the number of rows in the second matrix.\n",
    ">\n",
    ">5. $\\mathbf{b}\\mathbf{A}$\n",
    ">\n",
    ">It is not possible to multiply b by A since the dimensions of the first matrix are 3x1, and the dimensions of the second matrix are 3x3. Matrix multiplication is defined only when the number of columns in the first matrix is equal to the number of rows in the second matrix"
   ]
  },
  {
   "cell_type": "code",
   "execution_count": 6,
   "metadata": {},
   "outputs": [
    {
     "name": "stdout",
     "output_type": "stream",
     "text": [
      "6. b.TA =\n",
      "\n",
      "[[29 50 60]]\n"
     ]
    }
   ],
   "source": [
    "print(f\"6. b.TA =\\n\\n{b.T@A}\")"
   ]
  },
  {
   "cell_type": "markdown",
   "metadata": {},
   "source": [
    ">7. $\\mathbf{b}\\mathbf{b}$\n",
    ">\n",
    ">It is not possible to multiply b by b since the dimensions of the first matrix are 3x1, and the dimensions of the second matrix are 3x1. Matrix multiplication is defined only when the number of columns in the first matrix is equal to the number of rows in the second matrix"
   ]
  },
  {
   "cell_type": "code",
   "execution_count": 7,
   "metadata": {},
   "outputs": [
    {
     "name": "stdout",
     "output_type": "stream",
     "text": [
      "8. b.Tb =\n",
      "\n",
      "[[74]]\n"
     ]
    }
   ],
   "source": [
    "print(f\"8. b.Tb =\\n\\n{b.T@b}\")"
   ]
  },
  {
   "cell_type": "code",
   "execution_count": 8,
   "metadata": {},
   "outputs": [
    {
     "name": "stdout",
     "output_type": "stream",
     "text": [
      "9. bb.T =\n",
      "\n",
      "[[ 1 -3 -8]\n",
      " [-3  9 24]\n",
      " [-8 24 64]]\n"
     ]
    }
   ],
   "source": [
    "print(f\"9. bb.T =\\n\\n{b@b.T}\")"
   ]
  },
  {
   "cell_type": "markdown",
   "metadata": {},
   "source": [
    ">10. $\\mathbf{b} + \\mathbf{c}^T$\n",
    ">\n",
    ">It is not possible to add b and the transpose of c because they have dimensions 3x1 and 1x3, respectively. In order to add them, they would need to have the same dimensions.\n",
    ">\n",
    ">11. $\\mathbf{b}^T\\mathbf{b}^T$\n",
    ">\n",
    ">It is not possible to multiply the transpose of by the transpose of b since the dimensions of the first matrix are 1x3, and the dimensions of the second matrix are 1x3. Matrix multiplication is defined only when the number of columns in the first matrix is equal to the number of rows in the second matrix"
   ]
  },
  {
   "cell_type": "code",
   "execution_count": 9,
   "metadata": {},
   "outputs": [
    {
     "name": "stdout",
     "output_type": "stream",
     "text": [
      "12. A^(-1)b  =\n",
      "\n",
      "[[ 6.]\n",
      " [ 4.]\n",
      " [-5.]]\n"
     ]
    }
   ],
   "source": [
    "print(f\"12. A^(-1)b  =\\n\\n{np.linalg.inv(A)@b}\")"
   ]
  },
  {
   "cell_type": "code",
   "execution_count": 10,
   "metadata": {},
   "outputs": [
    {
     "name": "stdout",
     "output_type": "stream",
     "text": [
      "13. A*A  =\n",
      "\n",
      "[[ 1  4  9]\n",
      " [ 4 16 25]\n",
      " [ 9 25 36]]\n"
     ]
    }
   ],
   "source": [
    "print(f\"13. A*A  =\\n\\n{A*A}\")"
   ]
  },
  {
   "cell_type": "code",
   "execution_count": 11,
   "metadata": {},
   "outputs": [
    {
     "name": "stdout",
     "output_type": "stream",
     "text": [
      "14. b*c  =\n",
      "\n",
      "[[-4]\n",
      " [-9]\n",
      " [48]]\n"
     ]
    }
   ],
   "source": [
    "print(f\"14. b*c  =\\n\\n{b*c}\")"
   ]
  },
  {
   "cell_type": "markdown",
   "metadata": {},
   "source": [
    "**ANSWER**"
   ]
  },
  {
   "attachments": {},
   "cell_type": "markdown",
   "metadata": {},
   "source": [
    "---\n",
    "\n",
    "## 7\n",
    "**[8 points]** **Eigenvectors and eigenvalues**. Eigenvectors and eigenvalues are useful for some machine learning algorithms, but the concepts take time to solidly grasp. They are used extensively in machine learning and in this course we will encounter them in relation to Principal Components Analysis (PCA), clustering algorithms, For an intuitive review of these concepts, explore this [interactive website at Setosa.io](http://setosa.io/ev/eigenvectors-and-eigenvalues/). Also, the series of linear algebra videos by Grant Sanderson of 3Brown1Blue are excellent and can be viewed on youtube [here](https://www.youtube.com/playlist?list=PLZHQObOWTQDPD3MizzM2xVFitgF8hE_ab). For these questions, numpy may once again be helpful.\n",
    "\n",
    "1. Calculate the eigenvalues and corresponding eigenvectors of matrix $\\mathbf{A}$ above, from the last question.\n",
    "2. Choose one of the eigenvector/eigenvalue pairs, $\\mathbf{v}$ and $\\lambda$, and show that $\\mathbf{A} \\mathbf{v} = \\lambda \\mathbf{v}$. This relationship extends to higher orders: $\\mathbf{A} \\mathbf{A} \\mathbf{v} = \\lambda^2 \\mathbf{v}$\n",
    "3. Show that the eigenvectors are orthogonal to one another (e.g. their inner product is zero). This is true for eigenvectors from real, symmetric matrices. In three dimensions or less, this means that the eigenvectors are perpendicular to each other. Typically we use the orthogonal basis of our standard x, y, and z, Cartesian coordinates, which allows us, if we combine them linearly, to represent any point in a 3D space. But any three orthogonal vectors can do the same. We will see this property is used in PCA to identify the dimensions of greatest variation in our data when we discuss dimensionality reduction."
   ]
  },
  {
   "cell_type": "markdown",
   "metadata": {},
   "source": [
    "**ANSWER**"
   ]
  },
  {
   "cell_type": "code",
   "execution_count": 12,
   "metadata": {},
   "outputs": [
    {
     "name": "stdout",
     "output_type": "stream",
     "text": [
      "Eigenvalues of A:\n",
      "[11.34481428 -0.51572947  0.17091519]\n",
      "\n",
      "Eigenvectors of A:\n",
      "[[-0.32798528 -0.73697623  0.59100905]\n",
      " [-0.59100905 -0.32798528 -0.73697623]\n",
      " [-0.73697623  0.59100905  0.32798528]]\n"
     ]
    }
   ],
   "source": [
    "# 1\n",
    "eigenvalues, eigenvectors = np.linalg.eig(A)\n",
    "\n",
    "print(\"Eigenvalues of A:\")\n",
    "print(eigenvalues)\n",
    "\n",
    "print(\"\\nEigenvectors of A:\")\n",
    "print(eigenvectors)"
   ]
  },
  {
   "cell_type": "code",
   "execution_count": 13,
   "metadata": {},
   "outputs": [
    {
     "name": "stdout",
     "output_type": "stream",
     "text": [
      "Let's check Av = λv\n",
      "\n",
      "Av =\n",
      "[[-3.72093206]\n",
      " [-6.70488789]\n",
      " [-8.36085845]]\n",
      "\n",
      "λv =\n",
      "[[-3.72093206]\n",
      " [-6.70488789]\n",
      " [-8.36085845]]\n",
      "\n",
      "\n",
      "Now AAv = λ^2v\n",
      "\n",
      "AAv =\n",
      "[[-42.2132832 ]\n",
      " [-76.06570795]\n",
      " [-94.85238636]]\n",
      "\n",
      "λ^2v =\n",
      "[[-42.2132832 ]\n",
      " [-76.06570795]\n",
      " [-94.85238636]]\n"
     ]
    }
   ],
   "source": [
    "# 2\n",
    "# We will use the first eigenvalue\n",
    "λ = eigenvalues[0]\n",
    "\n",
    "# And the first eigenvector\n",
    "v = eigenvectors[:, 0].reshape(3, 1)\n",
    "\n",
    "print(\"Let's check Av = λv\")\n",
    "print(f\"\\nAv =\\n{A @ v}\")\n",
    "print(f\"\\nλv =\\n{λ * v}\")\n",
    "\n",
    "print(\"\\n\\nNow AAv = λ^2v\")\n",
    "print(f\"\\nAAv =\\n{A @ (A @ v)}\")\n",
    "print(f\"\\nλ^2v =\\n{λ**2 * v}\")"
   ]
  },
  {
   "cell_type": "code",
   "execution_count": 14,
   "metadata": {},
   "outputs": [
    {
     "name": "stdout",
     "output_type": "stream",
     "text": [
      "Let's check if the eigenvectors are orthogonal to each other. To do this, we will verify if their dot product is 0\n",
      "\n",
      "v1.v2: 3.5330797728269967e-16\n",
      "v2.v3: -6.1377913704128e-16\n",
      "v1.v3: -4.778175388788784e-16\n"
     ]
    }
   ],
   "source": [
    "print(\n",
    "    \"Let's check if the eigenvectors are orthogonal to each other. To do this, we will verify if their dot product is 0\\n\"\n",
    ")\n",
    "\n",
    "v1 = eigenvectors[:, 0]\n",
    "v2 = eigenvectors[:, 1]\n",
    "v3 = eigenvectors[:, 2]\n",
    "\n",
    "print(f\"v1.v2: {np.dot(v1, v2)}\")\n",
    "print(f\"v2.v3: {np.dot(v2, v3)}\")\n",
    "print(f\"v1.v3: {np.dot(v1, v3)}\")"
   ]
  },
  {
   "cell_type": "markdown",
   "metadata": {},
   "source": [
    ">We can see that the inner product or dot product between the eigenvectors is close to zero. Therefore, we can validate with this that the eigenvectors are orthogonal to each other."
   ]
  },
  {
   "attachments": {},
   "cell_type": "markdown",
   "metadata": {},
   "source": [
    "---\n",
    "\n",
    "# Numerical Programming"
   ]
  },
  {
   "attachments": {},
   "cell_type": "markdown",
   "metadata": {},
   "source": [
    "## 8\n",
    "**[10 points]** Loading data and gathering insights from a real dataset\n",
    "\n",
    "In data science, we often need to have a sense of the idiosyncrasies of the data, how they relate to the questions we are trying to answer, and to use that information to help us to determine what approach, such as machine learning, we may need to apply to achieve our goal. This exercise provides practice in exploring a dataset and answering question that might arise from applications related to the data.\n",
    "\n",
    "**Data**. The data for this problem can be found in the `data` subfolder in the `assignments` folder on [github](https://github.com/kylebradbury/ids705). The filename is `a1_egrid2016.xlsx`. This dataset is the Environmental Protection Agency's (EPA) [Emissions & Generation Resource Integrated Database (eGRID)](https://www.epa.gov/energy/emissions-generation-resource-integrated-database-egrid) containing information about all power plants in the United States, the amount of generation they produce, what fuel they use, the location of the plant, and many more quantities. We'll be using a subset of those data.\n",
    "\n",
    "The fields we'll be using include:\t\t\t\t\t\n",
    "    \n",
    "|field    |description|\n",
    "|:-----   |:-----|\n",
    "|SEQPLT16 |eGRID2016 Plant file sequence number (the index)| \n",
    "|PSTATABB |Plant state abbreviation|\n",
    "|PNAME    |Plant name |\n",
    "|LAT      |Plant latitude |\n",
    "|LON      |Plant longitude|\n",
    "|PLPRMFL  |Plant primary fuel |\n",
    "|CAPFAC   |Plant capacity factor |\n",
    "|NAMEPCAP |Plant nameplate capacity (Megawatts MW)|\n",
    "|PLNGENAN |Plant annual net generation (Megawatt-hours MWh)|\n",
    "|PLCO2EQA |Plant annual CO2 equivalent emissions (tons)|\n",
    "\n",
    "For more details on the data, you can refer to the [eGrid technical documents](https://www.epa.gov/sites/default/files/2021-02/documents/egrid2019_technical_guide.pdf). For example, you may want to review page 45 and the section \"Plant Primary Fuel (PLPRMFL)\", which gives the full names of the fuel types including WND for wind, NG for natural gas, BIT for Bituminous coal, etc.\n",
    "\n",
    "There also are a couple of \"gotchas\" to watch out for with this dataset:\n",
    "- The headers are on the second row and you'll want to ignore the first row (they're more detailed descriptions of the headers).\n",
    "- NaN values represent blanks in the data. These will appear regularly in real-world data, so getting experience working with these sorts of missing values will be important.\n",
    "\n",
    "**Your objective**. For this dataset, your goal is to answer the following questions about electricity generation in the United States:\n",
    "\n",
    "**(a)** Which plant has generated the most energy (measured in MWh)?\n",
    "\n",
    "**(b)** What is the name of the northern-most power plant in the United States?\n",
    "\n",
    "**(c)** What is the state where the northern-most power plant in the United States is located?\n",
    "\n",
    "**(d)** Plot a bar plot showing the amount of energy produced by each fuel type across all plants. \n",
    "\n",
    "**(e)** From the plot in (d), which fuel for generation produces the most energy (MWh) in the United States?"
   ]
  },
  {
   "cell_type": "markdown",
   "metadata": {},
   "source": [
    "**ANSWER**"
   ]
  },
  {
   "cell_type": "code",
   "execution_count": 15,
   "metadata": {},
   "outputs": [
    {
     "name": "stdout",
     "output_type": "stream",
     "text": [
      "shape: (9709, 10)\n"
     ]
    },
    {
     "data": {
      "text/html": [
       "<div>\n",
       "<style scoped>\n",
       "    .dataframe tbody tr th:only-of-type {\n",
       "        vertical-align: middle;\n",
       "    }\n",
       "\n",
       "    .dataframe tbody tr th {\n",
       "        vertical-align: top;\n",
       "    }\n",
       "\n",
       "    .dataframe thead th {\n",
       "        text-align: right;\n",
       "    }\n",
       "</style>\n",
       "<table border=\"1\" class=\"dataframe\">\n",
       "  <thead>\n",
       "    <tr style=\"text-align: right;\">\n",
       "      <th></th>\n",
       "      <th>SEQPLT16</th>\n",
       "      <th>PSTATABB</th>\n",
       "      <th>PNAME</th>\n",
       "      <th>LAT</th>\n",
       "      <th>LON</th>\n",
       "      <th>PLPRMFL</th>\n",
       "      <th>CAPFAC</th>\n",
       "      <th>NAMEPCAP</th>\n",
       "      <th>PLNGENAN</th>\n",
       "      <th>PLCO2EQA</th>\n",
       "    </tr>\n",
       "  </thead>\n",
       "  <tbody>\n",
       "    <tr>\n",
       "      <th>0</th>\n",
       "      <td>1</td>\n",
       "      <td>AK</td>\n",
       "      <td>7-Mile Ridge Wind Project</td>\n",
       "      <td>63.210689</td>\n",
       "      <td>-143.247156</td>\n",
       "      <td>WND</td>\n",
       "      <td>NaN</td>\n",
       "      <td>1.8</td>\n",
       "      <td>NaN</td>\n",
       "      <td>NaN</td>\n",
       "    </tr>\n",
       "    <tr>\n",
       "      <th>1</th>\n",
       "      <td>2</td>\n",
       "      <td>AK</td>\n",
       "      <td>Agrium Kenai Nitrogen Operations</td>\n",
       "      <td>60.673200</td>\n",
       "      <td>-151.378400</td>\n",
       "      <td>NG</td>\n",
       "      <td>NaN</td>\n",
       "      <td>21.6</td>\n",
       "      <td>NaN</td>\n",
       "      <td>NaN</td>\n",
       "    </tr>\n",
       "    <tr>\n",
       "      <th>2</th>\n",
       "      <td>3</td>\n",
       "      <td>AK</td>\n",
       "      <td>Alakanuk</td>\n",
       "      <td>62.683300</td>\n",
       "      <td>-164.654400</td>\n",
       "      <td>DFO</td>\n",
       "      <td>0.05326</td>\n",
       "      <td>2.6</td>\n",
       "      <td>1213.001</td>\n",
       "      <td>1049.863</td>\n",
       "    </tr>\n",
       "    <tr>\n",
       "      <th>3</th>\n",
       "      <td>4</td>\n",
       "      <td>AK</td>\n",
       "      <td>Allison Creek Hydro</td>\n",
       "      <td>61.084444</td>\n",
       "      <td>-146.353333</td>\n",
       "      <td>WAT</td>\n",
       "      <td>0.01547</td>\n",
       "      <td>6.5</td>\n",
       "      <td>881.000</td>\n",
       "      <td>0.000</td>\n",
       "    </tr>\n",
       "    <tr>\n",
       "      <th>4</th>\n",
       "      <td>5</td>\n",
       "      <td>AK</td>\n",
       "      <td>Ambler</td>\n",
       "      <td>67.087980</td>\n",
       "      <td>-157.856719</td>\n",
       "      <td>DFO</td>\n",
       "      <td>0.13657</td>\n",
       "      <td>1.1</td>\n",
       "      <td>1315.999</td>\n",
       "      <td>1087.881</td>\n",
       "    </tr>\n",
       "  </tbody>\n",
       "</table>\n",
       "</div>"
      ],
      "text/plain": [
       "   SEQPLT16 PSTATABB                             PNAME        LAT         LON  \\\n",
       "0         1       AK         7-Mile Ridge Wind Project  63.210689 -143.247156   \n",
       "1         2       AK  Agrium Kenai Nitrogen Operations  60.673200 -151.378400   \n",
       "2         3       AK                          Alakanuk  62.683300 -164.654400   \n",
       "3         4       AK               Allison Creek Hydro  61.084444 -146.353333   \n",
       "4         5       AK                            Ambler  67.087980 -157.856719   \n",
       "\n",
       "  PLPRMFL   CAPFAC  NAMEPCAP  PLNGENAN  PLCO2EQA  \n",
       "0     WND      NaN       1.8       NaN       NaN  \n",
       "1      NG      NaN      21.6       NaN       NaN  \n",
       "2     DFO  0.05326       2.6  1213.001  1049.863  \n",
       "3     WAT  0.01547       6.5   881.000     0.000  \n",
       "4     DFO  0.13657       1.1  1315.999  1087.881  "
      ]
     },
     "execution_count": 15,
     "metadata": {},
     "output_type": "execute_result"
    }
   ],
   "source": [
    "path_a1_egrid2016 = \"a1_egrid2016.xlsx\"\n",
    "df_power_plants_us = pd.read_excel(path_a1_egrid2016, skiprows=1)\n",
    "print(\"shape:\", df_power_plants_us.shape)\n",
    "df_power_plants_us.head()"
   ]
  },
  {
   "cell_type": "code",
   "execution_count": 16,
   "metadata": {},
   "outputs": [
    {
     "name": "stdout",
     "output_type": "stream",
     "text": [
      "Given that the questions refer to the amount of energy from the plant, we will address the NAs obtained for this variable.\n",
      "1671 Missing values for the variable 'PLNGENAN'\n"
     ]
    }
   ],
   "source": [
    "print(\n",
    "    \"Given that the questions refer to the amount of energy from the plant, we will address the NAs obtained for this variable.\"\n",
    ")\n",
    "print(\n",
    "    df_power_plants_us[\"PLNGENAN\"].isna().sum(),\n",
    "    \"Missing values for the variable 'PLNGENAN'\",\n",
    ")"
   ]
  },
  {
   "cell_type": "code",
   "execution_count": 17,
   "metadata": {},
   "outputs": [
    {
     "name": "stdout",
     "output_type": "stream",
     "text": [
      "shape: (8038, 10)\n"
     ]
    }
   ],
   "source": [
    "df_power_plants_us = df_power_plants_us.dropna(subset=[\"PLNGENAN\"])\n",
    "print(\"shape:\", df_power_plants_us.shape)"
   ]
  },
  {
   "cell_type": "code",
   "execution_count": 18,
   "metadata": {},
   "outputs": [
    {
     "data": {
      "text/html": [
       "<div>\n",
       "<style scoped>\n",
       "    .dataframe tbody tr th:only-of-type {\n",
       "        vertical-align: middle;\n",
       "    }\n",
       "\n",
       "    .dataframe tbody tr th {\n",
       "        vertical-align: top;\n",
       "    }\n",
       "\n",
       "    .dataframe thead th {\n",
       "        text-align: right;\n",
       "    }\n",
       "</style>\n",
       "<table border=\"1\" class=\"dataframe\">\n",
       "  <thead>\n",
       "    <tr style=\"text-align: right;\">\n",
       "      <th></th>\n",
       "      <th>SEQPLT16</th>\n",
       "      <th>PSTATABB</th>\n",
       "      <th>PNAME</th>\n",
       "      <th>LAT</th>\n",
       "      <th>LON</th>\n",
       "      <th>PLPRMFL</th>\n",
       "      <th>CAPFAC</th>\n",
       "      <th>NAMEPCAP</th>\n",
       "      <th>PLNGENAN</th>\n",
       "      <th>PLCO2EQA</th>\n",
       "    </tr>\n",
       "  </thead>\n",
       "  <tbody>\n",
       "    <tr>\n",
       "      <th>390</th>\n",
       "      <td>391</td>\n",
       "      <td>AZ</td>\n",
       "      <td>Palo Verde</td>\n",
       "      <td>33.3881</td>\n",
       "      <td>-112.8617</td>\n",
       "      <td>NUC</td>\n",
       "      <td>0.87801</td>\n",
       "      <td>4209.6</td>\n",
       "      <td>3.237748e+07</td>\n",
       "      <td>0.0</td>\n",
       "    </tr>\n",
       "  </tbody>\n",
       "</table>\n",
       "</div>"
      ],
      "text/plain": [
       "     SEQPLT16 PSTATABB       PNAME      LAT       LON PLPRMFL   CAPFAC  \\\n",
       "390       391       AZ  Palo Verde  33.3881 -112.8617     NUC  0.87801   \n",
       "\n",
       "     NAMEPCAP      PLNGENAN  PLCO2EQA  \n",
       "390    4209.6  3.237748e+07       0.0  "
      ]
     },
     "execution_count": 18,
     "metadata": {},
     "output_type": "execute_result"
    }
   ],
   "source": [
    "# a)\n",
    "max_energy = df_power_plants_us[\n",
    "    df_power_plants_us[\"PLNGENAN\"] == max(df_power_plants_us[\"PLNGENAN\"])\n",
    "]\n",
    "max_energy"
   ]
  },
  {
   "cell_type": "code",
   "execution_count": 19,
   "metadata": {},
   "outputs": [
    {
     "name": "stdout",
     "output_type": "stream",
     "text": [
      "The plant that has generated the most energy is 391: 'Palo Verde' with a total generation 32,377,477 of MWh in a year.\n"
     ]
    }
   ],
   "source": [
    "id_max_energy = max_energy[[\"SEQPLT16\"]].iloc[0, 0]\n",
    "name_max_energy = max_energy[[\"PNAME\"]].iloc[0, 0]\n",
    "value_max_energy = round(max_energy[[\"PLNGENAN\"]].iloc[0, 0])\n",
    "print(\n",
    "    f\"The plant that has generated the most energy is {id_max_energy}: '{name_max_energy}' with a total generation {value_max_energy:,} of MWh in a year.\"\n",
    ")"
   ]
  },
  {
   "cell_type": "code",
   "execution_count": 20,
   "metadata": {},
   "outputs": [
    {
     "data": {
      "text/html": [
       "<div>\n",
       "<style scoped>\n",
       "    .dataframe tbody tr th:only-of-type {\n",
       "        vertical-align: middle;\n",
       "    }\n",
       "\n",
       "    .dataframe tbody tr th {\n",
       "        vertical-align: top;\n",
       "    }\n",
       "\n",
       "    .dataframe thead th {\n",
       "        text-align: right;\n",
       "    }\n",
       "</style>\n",
       "<table border=\"1\" class=\"dataframe\">\n",
       "  <thead>\n",
       "    <tr style=\"text-align: right;\">\n",
       "      <th></th>\n",
       "      <th>SEQPLT16</th>\n",
       "      <th>PSTATABB</th>\n",
       "      <th>PNAME</th>\n",
       "      <th>LAT</th>\n",
       "      <th>LON</th>\n",
       "      <th>PLPRMFL</th>\n",
       "      <th>CAPFAC</th>\n",
       "      <th>NAMEPCAP</th>\n",
       "      <th>PLNGENAN</th>\n",
       "      <th>PLCO2EQA</th>\n",
       "    </tr>\n",
       "  </thead>\n",
       "  <tbody>\n",
       "    <tr>\n",
       "      <th>11</th>\n",
       "      <td>12</td>\n",
       "      <td>AK</td>\n",
       "      <td>Barrow</td>\n",
       "      <td>71.292</td>\n",
       "      <td>-156.7786</td>\n",
       "      <td>NG</td>\n",
       "      <td>0.28208</td>\n",
       "      <td>20.3</td>\n",
       "      <td>50162.0</td>\n",
       "      <td>44205.17</td>\n",
       "    </tr>\n",
       "  </tbody>\n",
       "</table>\n",
       "</div>"
      ],
      "text/plain": [
       "    SEQPLT16 PSTATABB   PNAME     LAT       LON PLPRMFL   CAPFAC  NAMEPCAP  \\\n",
       "11        12       AK  Barrow  71.292 -156.7786      NG  0.28208      20.3   \n",
       "\n",
       "    PLNGENAN  PLCO2EQA  \n",
       "11   50162.0  44205.17  "
      ]
     },
     "execution_count": 20,
     "metadata": {},
     "output_type": "execute_result"
    }
   ],
   "source": [
    "# b)\n",
    "northern_most = df_power_plants_us[\n",
    "    df_power_plants_us[\"LAT\"] == max(df_power_plants_us[\"LAT\"])\n",
    "]\n",
    "northern_most"
   ]
  },
  {
   "cell_type": "code",
   "execution_count": 21,
   "metadata": {},
   "outputs": [
    {
     "name": "stdout",
     "output_type": "stream",
     "text": [
      "The northern-most power plant is 12: 'Barrow' with a total generation 50,162 of MWh in a year.\n"
     ]
    }
   ],
   "source": [
    "id_northern_most = northern_most[[\"SEQPLT16\"]].iloc[0, 0]\n",
    "name_northern_most = northern_most[[\"PNAME\"]].iloc[0, 0]\n",
    "value_northern_most = round(northern_most[[\"PLNGENAN\"]].iloc[0, 0])\n",
    "print(\n",
    "    f\"The northern-most power plant is {id_northern_most}: '{name_northern_most}' with a total generation {value_northern_most:,} of MWh in a year.\"\n",
    ")"
   ]
  },
  {
   "cell_type": "code",
   "execution_count": 22,
   "metadata": {},
   "outputs": [
    {
     "name": "stdout",
     "output_type": "stream",
     "text": [
      "The state where the northern-most power plant in the United States is located is: AK\n"
     ]
    }
   ],
   "source": [
    "# c)\n",
    "state_northern_most = northern_most[[\"PSTATABB\"]].iloc[0, 0]\n",
    "print(\n",
    "    f\"The state where the northern-most power plant in the United States is located is: {state_northern_most}\"\n",
    ")"
   ]
  },
  {
   "cell_type": "code",
   "execution_count": 23,
   "metadata": {},
   "outputs": [
    {
     "data": {
      "image/png": "[encoded data removed]",
      "text/plain": [
       "<Figure size 1000x600 with 1 Axes>"
      ]
     },
     "metadata": {},
     "output_type": "display_data"
    }
   ],
   "source": [
    "# d)\n",
    "df_grouped_by_fuel = df_power_plants_us.groupby(\"PLPRMFL\")[\"PLNGENAN\"].sum()\n",
    "df_grouped_by_fuel.plot(kind=\"bar\", figsize=(10, 6), color=\"skyblue\")\n",
    "plt.title(\"Annual Energy Production by Fuel Type Across All Plants\")\n",
    "plt.xlabel(\"Fuel Type\")\n",
    "plt.ylabel(\"Total Annual Energy Production (MWh)\")\n",
    "\n",
    "plt.show()"
   ]
  },
  {
   "cell_type": "markdown",
   "metadata": {},
   "source": [
    "> e)  From the previous bar plot, it is evident that Natural Gas (NG) produces the highest amount of energy (measured in MWh) in the United States.\n"
   ]
  },
  {
   "attachments": {},
   "cell_type": "markdown",
   "metadata": {},
   "source": [
    "---\n",
    "\n",
    "## 9\n",
    "**[6 points]** *Vectorization*. When we first learn to code and think about iterating over an array, we often use loops. If implemented correctly, that does the trick. In machine learning, we iterate over so much data that those loops can lead to significant slow downs if they are not computationally efficient. In Python, vectorizing code and relying on matrix operations with efficient tools like numpy is typically the faster approach. Of course, numpy relies on loops to complete the computation, but this is at a lower level of programming (typically in C), and therefore is much more efficient. This exercise will explore the benefits of vectorization. Since many machine learning techniques rely on matrix operations, it's helpful to begin thinking about implementing algorithms using vector forms.\n",
    "\n",
    "Begin by creating an array of 10 million random numbers using the numpy `random.randn` module. Compute the sum of the squares of those random numbers first in a for loop, then using Numpy's `dot` module to perform an inner (dot) product. Verify that your code produces the same output in each case. Time how long it takes to compute each and report the results and report the output. How many times faster is the vectorized code than the for loop approach? (Note - your results may vary from run to run).\n",
    "\n",
    "Your output should use the `print()` function as follows (where the # symbols represent your answers, to a reasonable precision of 4-5 significant figures):\n",
    "\n",
    "`Time [sec] (non-vectorized): ######`\n",
    "\n",
    "`Time [sec] (vectorized):     ######`\n",
    "\n",
    "`The vectorized code is ##### times faster than the nonvectorized code`"
   ]
  },
  {
   "cell_type": "markdown",
   "metadata": {},
   "source": [
    "**ANSWER**"
   ]
  },
  {
   "cell_type": "code",
   "execution_count": 24,
   "metadata": {},
   "outputs": [],
   "source": [
    "np.random.seed(123)\n",
    "m = np.random.randn(10**7)\n",
    "\n",
    "# Bucle for\n",
    "start_time_bucle = time.time()\n",
    "sum_bucle = 0\n",
    "for i in m:\n",
    "    sum_bucle += i**2\n",
    "end_time_bucle = time.time()\n",
    "\n",
    "\n",
    "# Dot product\n",
    "start_dot_product = time.time()\n",
    "sum_dot_product = np.dot(m, m)\n",
    "end_dot_product = time.time()"
   ]
  },
  {
   "cell_type": "code",
   "execution_count": 25,
   "metadata": {},
   "outputs": [
    {
     "name": "stdout",
     "output_type": "stream",
     "text": [
      "Let's first check that the results from both methods are equal\n",
      "\n",
      "Sum non-vectorized: 10004444.54\n",
      "Sum vectorized: 10004444.54\n"
     ]
    }
   ],
   "source": [
    "print(\"Let's first check that the results from both methods are equal\\n\")\n",
    "print(f\"Sum non-vectorized: {sum_bucle:.2f}\")\n",
    "print(f\"Sum vectorized: {sum_dot_product:.2f}\")"
   ]
  },
  {
   "cell_type": "code",
   "execution_count": 26,
   "metadata": {},
   "outputs": [
    {
     "name": "stdout",
     "output_type": "stream",
     "text": [
      "Time [sec] (non-vectorized): 1.3309\n",
      "\n",
      "Time [sec] (vectorized):  0.0051351\n",
      "\n",
      "The vectorized code is 259.18 times faster than the nonvectorized code\n",
      "\n"
     ]
    }
   ],
   "source": [
    "time_non_vectorized = end_time_bucle - start_time_bucle\n",
    "time_vectorized = end_dot_product - start_dot_product\n",
    "\n",
    "print(f\"Time [sec] (non-vectorized): {time_non_vectorized:.5g}\\n\")\n",
    "print(f\"Time [sec] (vectorized):  {time_vectorized:.5g}\\n\")\n",
    "print(\n",
    "    f\"The vectorized code is {time_non_vectorized/time_vectorized:.5g} times faster than the nonvectorized code\\n\"\n",
    ")"
   ]
  },
  {
   "attachments": {},
   "cell_type": "markdown",
   "metadata": {},
   "source": [
    "---\n",
    "\n",
    "## 10\n",
    "**[10 points]** This exercise will walk through some basic numerical programming and probabilistic thinking exercises, two skills which are frequently used in machine learning for answering questions from our data.\n",
    "1. Synthesize $n=10^4$ normally distributed data points with mean $\\mu=2$ and a standard deviation of $\\sigma=1$. Call these observations from a random variable $X$, and call the vector of observations that you generate, $\\textbf{x}$.\n",
    "2. Calculate the mean and standard deviation of $\\textbf{x}$ to validate (1) and provide the result to a precision of four significant figures.\n",
    "3. Plot a histogram of the data in $\\textbf{x}$ with 30 bins\n",
    "4. What is the 90th percentile of $\\textbf{x}$? The 90th percentile is the value below which 90% of observations can be found.\n",
    "5. What is the 99th percentile of $\\textbf{x}$?\n",
    "6. Now synthesize $n=10^4$ normally distributed data points with mean $\\mu=0$ and a standard deviation of $\\sigma=3$. Call these observations from a random variable $Y$, and call the vector of observations that you generate, $\\textbf{y}$.\n",
    "7. Create a new figure and plot the histogram of the data in $\\textbf{y}$ on the same axes with the histogram of $\\textbf{x}$, so that both histograms can be seen and compared.\n",
    "8. Using the observations from $\\textbf{x}$ and $\\textbf{y}$, estimate $E[XY]$"
   ]
  },
  {
   "cell_type": "markdown",
   "metadata": {},
   "source": [
    "**ANSWER**"
   ]
  },
  {
   "cell_type": "code",
   "execution_count": 27,
   "metadata": {},
   "outputs": [
    {
     "data": {
      "text/plain": [
       "array([0.9143694 , 2.99734545, 2.2829785 , ..., 1.52773359, 2.58196437,\n",
       "       2.97061286])"
      ]
     },
     "execution_count": 27,
     "metadata": {},
     "output_type": "execute_result"
    }
   ],
   "source": [
    "# 1.\n",
    "np.random.seed(123)\n",
    "x = np.random.normal(2, 1, 10**4)\n",
    "x"
   ]
  },
  {
   "cell_type": "code",
   "execution_count": 28,
   "metadata": {},
   "outputs": [
    {
     "name": "stdout",
     "output_type": "stream",
     "text": [
      "μ(X): 2.01\n",
      "σ(X) 0.9981\n"
     ]
    }
   ],
   "source": [
    "# 2.\n",
    "print(f\"μ(X): {np.mean(x):.4g}\")\n",
    "print(f\"σ(X) {np.std(x):.4g}\")"
   ]
  },
  {
   "cell_type": "code",
   "execution_count": 29,
   "metadata": {},
   "outputs": [
    {
     "data": {
      "image/png": "[encoded data removed]",
      "text/plain": [
       "<Figure size 640x480 with 1 Axes>"
      ]
     },
     "metadata": {},
     "output_type": "display_data"
    }
   ],
   "source": [
    "# 3.\n",
    "plt.hist(x, bins=30, edgecolor=\"black\")\n",
    "\n",
    "plt.xlabel(\"X\")\n",
    "plt.ylabel(\"Frequency\")\n",
    "plt.title(\"Histogram of Normal Distribution with μ=2, σ=1 and n=10,000\")\n",
    "plt.show()"
   ]
  },
  {
   "cell_type": "code",
   "execution_count": 30,
   "metadata": {},
   "outputs": [
    {
     "name": "stdout",
     "output_type": "stream",
     "text": [
      "90th Percentile of X: 3.289\n"
     ]
    }
   ],
   "source": [
    "# 4\n",
    "sorted_x = np.sort(x)\n",
    "percentile_90 = sorted_x[int(0.9 * len(sorted_x))]\n",
    "print(f\"90th Percentile of X: {percentile_90:.4g}\")"
   ]
  },
  {
   "cell_type": "code",
   "execution_count": 31,
   "metadata": {},
   "outputs": [
    {
     "name": "stdout",
     "output_type": "stream",
     "text": [
      "99th Percentile of X: 4.33\n"
     ]
    }
   ],
   "source": [
    "# 5\n",
    "percentile_99 = sorted_x[int(0.99 * len(sorted_x))]\n",
    "print(f\"99th Percentile of X: {percentile_99:.4g}\")"
   ]
  },
  {
   "cell_type": "code",
   "execution_count": 32,
   "metadata": {},
   "outputs": [
    {
     "name": "stdout",
     "output_type": "stream",
     "text": [
      "μ(Y): 0.02914\n",
      "σ(Y) 2.994\n"
     ]
    }
   ],
   "source": [
    "# 6\n",
    "np.random.seed(123)\n",
    "y = np.random.normal(0, 3, 10**4)\n",
    "print(f\"μ(Y): {np.mean(y):.4g}\")\n",
    "print(f\"σ(Y) {np.std(y):.4g}\")"
   ]
  },
  {
   "cell_type": "code",
   "execution_count": 33,
   "metadata": {},
   "outputs": [
    {
     "data": {
      "image/png": "[encoded data removed]",
      "text/plain": [
       "<Figure size 640x480 with 1 Axes>"
      ]
     },
     "metadata": {},
     "output_type": "display_data"
    }
   ],
   "source": [
    "# 7\n",
    "plt.hist(y, bins=30, edgecolor=\"black\", alpha=0.7, label=\"Y\")\n",
    "plt.hist(x, bins=30, edgecolor=\"black\", alpha=0.5, label=\"X\")\n",
    "\n",
    "plt.xlabel(\"Values\")\n",
    "plt.ylabel(\"Frequency\")\n",
    "plt.title(\n",
    "    \"Histograms of Normal Distributions\\n\\nX: μ=2, σ=1, n=10,000 \\nY: μ=0, σ=3, n=10,000\"\n",
    ")\n",
    "plt.legend()\n",
    "plt.show()"
   ]
  },
  {
   "cell_type": "markdown",
   "metadata": {},
   "source": [
    ">In the plot, we can observe the difference between both distributions, characterized by different centers determined by their means and characteristic dispersions. In the case of variable Y, we can see how it has a greater dispersion and is less concentrated than X, due to its larger standard deviation. Also, it is centered at 0, its mean, in contrast to X, which has a mean of 2."
   ]
  },
  {
   "cell_type": "code",
   "execution_count": 34,
   "metadata": {},
   "outputs": [
    {
     "name": "stdout",
     "output_type": "stream",
     "text": [
      "E[XY]: 3.047\n"
     ]
    }
   ],
   "source": [
    "# 7\n",
    "print(f\"E[XY]: {np.mean(x * y):.4g}\")"
   ]
  },
  {
   "cell_type": "markdown",
   "metadata": {},
   "source": [
    ">It is worth mentioning that the theoretical expectation, given the initial probabilities, should be 0, since both variables are independent.\n",
    ">\n",
    ">We have that $E[XY] = E[X]* E[Y] = 2*0 = 0$ \n",
    ">\n",
    ">However, we must consider that we are dealing with random variables that exhibit some noise."
   ]
  },
  {
   "attachments": {},
   "cell_type": "markdown",
   "metadata": {},
   "source": [
    "---\n",
    "\n",
    "# Version Control via Git"
   ]
  },
  {
   "attachments": {},
   "cell_type": "markdown",
   "metadata": {},
   "source": [
    "## 11\n",
    "**[4 points]** Git is efficient for collaboration, and expectation in industry, and one of the best ways to share results in academia. You can even use some Git repositories (e.g. Github) as hosts for website, such as with the [course website](https://kylebradbury.github.io/ids705/index.html). As a data scientist with experience in machine learning, Git is expected. We will interact with Git repositories (a.k.a. repos) throughout this course, and your project will require the use of git repos for collaboration.\n",
    "\n",
    "Complete the [Atlassian Git tutorial](https://www.atlassian.com/git/tutorials/what-is-version-control), specifically the following listed sections. Try each concept that's presented. For this tutorial, instead of using BitBucket as your remote repository host, you may use your preferred platform such as [Github](https://github.com/) or [Duke's Gitlab](https://gitlab.oit.duke.edu/users/sign_in).\n",
    "1. [What is version control](https://www.atlassian.com/git/tutorials/what-is-version-control)\n",
    "2. [What is Git](https://www.atlassian.com/git/tutorials/what-is-git)\n",
    "3. [Install Git](https://www.atlassian.com/git/tutorials/install-git)\n",
    "4. [Setting up a repository](https://www.atlassian.com/git/tutorials/install-git)\n",
    "5. [Saving changes](https://www.atlassian.com/git/tutorials/saving-changes)\n",
    "6. [Inspecting a repository](https://www.atlassian.com/git/tutorials/inspecting-a-repository)\n",
    "7. [Undoing changes](https://www.atlassian.com/git/tutorials/undoing-changes)\n",
    "8. [Rewriting history](https://www.atlassian.com/git/tutorials/rewriting-history)\n",
    "9. [Syncing](https://www.atlassian.com/git/tutorials/syncing)\n",
    "10. [Making a pull request](https://www.atlassian.com/git/tutorials/making-a-pull-request)\n",
    "11. [Using branches](https://www.atlassian.com/git/tutorials/using-branches)\n",
    "12. [Comparing workflows](https://www.atlassian.com/git/tutorials/comparing-workflows)\n",
    "\n",
    "I also have created two videos on the topic to help you understand some of these concepts: [Git basics](https://www.youtube.com/watch?v=fBCwfoBr2ng) and a [step-by-step tutorial](https://www.youtube.com/watch?v=nH7qJHx-h5s).\n",
    "\n",
    "As an additional resource, Microsoft now offers a git [tutorial](https://learn.microsoft.com/en-us/collections/o1njfe825p602p) on this topic as well.\n",
    "\n",
    "For your answer, affirm that you *either* completed the tutorials above OR have previous experience with ALL of the concepts above. Confirm this by typing your name below and selecting the situation that applies from the two options in brackets."
   ]
  },
  {
   "cell_type": "markdown",
   "metadata": {},
   "source": [
    "**ANSWER**\n",
    "\n",
    "> I, **Barbara Flores*, affirm that I have **completed the above tutorial***"
   ]
  },
  {
   "attachments": {},
   "cell_type": "markdown",
   "metadata": {},
   "source": [
    "---\n",
    "\n",
    "# Exploratory Data Analysis\n",
    "## 12\n",
    "**[15 points]** Here you'll bring together some of the individual skills that you demonstrated above and create a Jupyter notebook based blog post on your exploratory data analysis. Your goal is to identify a question or problem and to work towards solving it or providing additional information or evidence (data) related to it through your data analysis. Below, we walk through a process to follow for your analysis. Additionally, you can find an [example of a well-done exploratory data analysis here from past years](https://github.com/kylebradbury/ids705/blob/master/assignments/Assignment_1_Q12_Example.ipynb).\n",
    "\n",
    "1. Find a dataset that interests you and relates to a question or problem that you find intriguing.\n",
    "2. Describe the dataset, the source of the data, and the reason the dataset was of interest. Include a description of the features, data size, data creator and year of creation (if available), etc. What question are you hoping to answer through exploring the dataset?\n",
    "3. Check the data and see if they need to be cleaned: are there missing values? Are there clearly erroneous values? Do two tables need to be merged together? Clean the data so it can be visualized. If the data are clean, state how you know they are clean (what did you check?).\n",
    "3. Plot the data, demonstrating interesting features that you discover. Are there any relationships between variables that were surprising or patterns that emerged? Please exercise creativity and curiosity in your plots. You should have at least 4 plots exploring the data in different ways.\n",
    "4. What insights are you able to take away from exploring the data? Is there a reason why analyzing the dataset you chose is particularly interesting or important? Summarize this for a general audience (imagine your publishing a blog post online) - boil down your findings in a way that is accessible, but still accurate.\n",
    "\n",
    "Here your analysis will evaluated based on:\n",
    "1. Motivation: was the purpose of the choice of data clearly articulated? Why was the dataset chosen and what was the goal of the analysis?\n",
    "2. Data cleaning: were any issues with the data investigated and, if found, were they resolved?\n",
    "3. Quality of data exploration: were at least 4 unique plots (minimum) included and did those plots demonstrate interesting aspects of the data? Was there a clear purpose and takeaway from EACH plot? \n",
    "4. Interpretation: Were the insights revealed through the analysis and their potential implications clearly explained? Was there an overall conclusion to the analysis?"
   ]
  },
  {
   "cell_type": "markdown",
   "metadata": {},
   "source": [
    "**ANSWER**"
   ]
  },
  {
   "cell_type": "markdown",
   "metadata": {},
   "source": [
    ">## <span style=\"color: #008080\">PAES: A New Exam Shaping Higher Education Access in Chile</span>\n",
    ">\n",
    ">In November 2022, Chile introduced a new selection test for access to higher education, the \"PAES: Prueba de Acceso a la Educación Superior\" (Higher Education Access Test). This test replaces the \"PSU: Prueba de Selección Universitaria\" (University Selection Test), which had been in use for almost 20 years.\n",
    ">\n",
    ">One of the objectives of the test change was to improve equity in access to higher education among students from private and public schools. The new test focuses more on understanding and applying knowledge, reducing the importance of memorization of facts and formulas. The hypothesis is that this change should particularly benefit students from public schools.\n",
    ">\n",
    ">However, the results of the second administration of the test were published on January 2, 2024, and the media has suggested that notable disparities persist among various types of establishments.\n",
    ">\n",
    ">We lack access to detailed data from the previous PSU test, and considering that both tests operate on distinct scales, conducting a thorough comparison becomes challenging within the confines of this examination. That's why, in this analysis, we will focus on understanding the performance of the current test. The goal is to grasp the differences that exist today in the results of the test that determines the university future of Chilean students. Therefore, the research question we aim to address in this analysis is:\n",
    ">\n",
    ">***How do the results of the new Higher Education Access Test (PAES) in Chile vary across different types of educational establishments and through various socioeconomic strata?***\n"
   ]
  },
  {
   "cell_type": "markdown",
   "metadata": {},
   "source": [
    ">### <span style=\"color: #008080\">Database</span>\n",
    ">\n",
    ">This is why, in this Exploratory Data Analysis, I will examine the [database](https://datosabiertos.mineduc.cl/pruebas-de-admision-a-la-educacion-superior/) of the first PAES exam results (Ministry of Education of Chile, 2024) to identify the differences among different students and try to better understand the situation of access to higher education in Chile.\n",
    ">\n",
    ">In particular, we will use 2 files: \"Prueba de Acceso a la Educacion Superior 2023 – Inscritos Puntajes\" and \"Prueba de Acceso a la Educación Superior 2023 – Socioeconómicos\"\n",
    ">These files contain disaggregated information at the student level, with an anonymized identifier for each person that allows connecting both databases.\n",
    ">\n",
    ">Both databases have 296,812 student records, with 117 and 39 columns, respectively. They each have a unique student identifier, making it possible to merge them together.\n",
    ">\n",
    ">These databases include information such as the school name from which the student comes, region and city, type of educational establishment (private, public, or co-financed), gender, high school GPA, scores in different selection tests, number of correct, incorrect, and omitted questions in each test type, etc. They also include information on the family's socioeconomic stratum, grouped by deciles.\n",
    ">\n",
    ">For the present analysis, we will use the following variables. However, the description of the 39 variables can be found on the [database page](https://datosabiertos.mineduc.cl/pruebas-de-admision-a-la-educacion-superior/).\n",
    ">\n",
    ">\n",
    ">| Name                       | Type     | Description                                                                       | Values                                                                                                                  |\n",
    ">|----------------------------- |----------|-----------------------------------------------------------------------------------|-------------------------------------------------------------------------------------------------------------------------|\n",
    ">| DEPENDENCIA                  | Numeric  | Dependency group.                                                                | 1: Municipal Corporation, 2: Municipal, 3: Subsidized Private, 4: Non-subsidized Private, 5: Delegated Administration Corporation, 6: Local Education Service (SLE)   |\n",
    ">| MATE1_REG_ACTUAL             | Numeric  | Score in Mathematics Competency Test 1 in the current session                     | -                                                                                                                       |\n",
    ">| CLEC_REG_ACTUAL              | Numeric  | Score in Reading Competency Test in the current regular session                    | -                                                                                                                       |\n",
    ">| INGRESO_PERCAPITA_GRUPO_FA   | Numeric  | What is the per capita income of your family group?                                 | 1: 1st decile, 2: 2nd decile: and so on... and 99: Prefer not to respond                                               |\n"
   ]
  },
  {
   "cell_type": "markdown",
   "metadata": {},
   "source": [
    ">### <span style=\"color: #008080\">Data Loading and Cleaning</span>\n",
    "> \n",
    ">First, we merge the data, and then we remove null values. For the purposes of the analyses we want to perform, we will remove records with null values in the columns of dependency type, high school GPA, general mathematics test, and reading comprehension test. At the moment, we will not remove the values of 99 in the variable 'per capita income' (Prefer not to respond) since they represent a larger proportion of the database.\n",
    ">"
   ]
  },
  {
   "cell_type": "code",
   "execution_count": 35,
   "metadata": {},
   "outputs": [
    {
     "data": {
      "text/html": [
       "<div>\n",
       "<style scoped>\n",
       "    .dataframe tbody tr th:only-of-type {\n",
       "        vertical-align: middle;\n",
       "    }\n",
       "\n",
       "    .dataframe tbody tr th {\n",
       "        vertical-align: top;\n",
       "    }\n",
       "\n",
       "    .dataframe thead th {\n",
       "        text-align: right;\n",
       "    }\n",
       "</style>\n",
       "<table border=\"1\" class=\"dataframe\">\n",
       "  <thead>\n",
       "    <tr style=\"text-align: right;\">\n",
       "      <th></th>\n",
       "      <th>MRUN</th>\n",
       "      <th>ANYO_PROCESO</th>\n",
       "      <th>COD_SEXO</th>\n",
       "      <th>FECHA_NACIMIENTO</th>\n",
       "      <th>RBD</th>\n",
       "      <th>CODIGO_ENS</th>\n",
       "      <th>LOCAL_EDUCACIONAL</th>\n",
       "      <th>UNIDAD_EDUCATIVA</th>\n",
       "      <th>NOMBRE_UNIDAD_EDUC</th>\n",
       "      <th>RAMA_EDUCACIONAL</th>\n",
       "      <th>...</th>\n",
       "      <th>PRUEBA_INV_CQUI</th>\n",
       "      <th>FORMA_INV_CQUI</th>\n",
       "      <th>CORRECTAS_INV_CQUI</th>\n",
       "      <th>ERRADAS_INV_CQUI</th>\n",
       "      <th>OMITIDAS_INV_CQUI</th>\n",
       "      <th>PRUEBA_INV_CTP</th>\n",
       "      <th>FORMA_INV_CTP</th>\n",
       "      <th>CORRECTAS_INV_CTP</th>\n",
       "      <th>ERRADAS_INV_CTP</th>\n",
       "      <th>OMITIDAS_INV_CTP</th>\n",
       "    </tr>\n",
       "  </thead>\n",
       "  <tbody>\n",
       "    <tr>\n",
       "      <th>0</th>\n",
       "      <td>3703667</td>\n",
       "      <td>2023</td>\n",
       "      <td>1</td>\n",
       "      <td>194708</td>\n",
       "      <td>5654</td>\n",
       "      <td>310</td>\n",
       "      <td>1747</td>\n",
       "      <td>1</td>\n",
       "      <td>INSTITUTO CLARET</td>\n",
       "      <td>H1</td>\n",
       "      <td>...</td>\n",
       "      <td>Ciencias Química.</td>\n",
       "      <td>0</td>\n",
       "      <td>0</td>\n",
       "      <td>0</td>\n",
       "      <td>0</td>\n",
       "      <td>Ciencias Técnico Profesional.</td>\n",
       "      <td>0</td>\n",
       "      <td>0</td>\n",
       "      <td>0</td>\n",
       "      <td>0</td>\n",
       "    </tr>\n",
       "    <tr>\n",
       "      <th>1</th>\n",
       "      <td>8437289</td>\n",
       "      <td>2023</td>\n",
       "      <td>1</td>\n",
       "      <td>194503</td>\n",
       "      <td>40407</td>\n",
       "      <td>363</td>\n",
       "      <td>3997</td>\n",
       "      <td>1</td>\n",
       "      <td>CENTRO DE ESTUDIOS BORDEMAR</td>\n",
       "      <td>H2</td>\n",
       "      <td>...</td>\n",
       "      <td>Ciencias Química.</td>\n",
       "      <td>0</td>\n",
       "      <td>0</td>\n",
       "      <td>0</td>\n",
       "      <td>0</td>\n",
       "      <td>Ciencias Técnico Profesional.</td>\n",
       "      <td>0</td>\n",
       "      <td>0</td>\n",
       "      <td>0</td>\n",
       "      <td>0</td>\n",
       "    </tr>\n",
       "  </tbody>\n",
       "</table>\n",
       "<p>2 rows × 117 columns</p>\n",
       "</div>"
      ],
      "text/plain": [
       "      MRUN  ANYO_PROCESO  COD_SEXO  FECHA_NACIMIENTO    RBD CODIGO_ENS  \\\n",
       "0  3703667          2023         1            194708   5654        310   \n",
       "1  8437289          2023         1            194503  40407        363   \n",
       "\n",
       "  LOCAL_EDUCACIONAL UNIDAD_EDUCATIVA           NOMBRE_UNIDAD_EDUC  \\\n",
       "0              1747                1             INSTITUTO CLARET   \n",
       "1              3997                1  CENTRO DE ESTUDIOS BORDEMAR   \n",
       "\n",
       "  RAMA_EDUCACIONAL  ...    PRUEBA_INV_CQUI FORMA_INV_CQUI CORRECTAS_INV_CQUI  \\\n",
       "0               H1  ...  Ciencias Química.              0                  0   \n",
       "1               H2  ...  Ciencias Química.              0                  0   \n",
       "\n",
       "  ERRADAS_INV_CQUI OMITIDAS_INV_CQUI                 PRUEBA_INV_CTP  \\\n",
       "0                0                 0  Ciencias Técnico Profesional.   \n",
       "1                0                 0  Ciencias Técnico Profesional.   \n",
       "\n",
       "  FORMA_INV_CTP CORRECTAS_INV_CTP ERRADAS_INV_CTP  OMITIDAS_INV_CTP  \n",
       "0             0                 0               0                 0  \n",
       "1             0                 0               0                 0  \n",
       "\n",
       "[2 rows x 117 columns]"
      ]
     },
     "execution_count": 35,
     "metadata": {},
     "output_type": "execute_result"
    }
   ],
   "source": [
    "path_test_score = \"Prueba-de-Acceso-a-la-Educacion-Superior-2023-Inscritos-Puntajes/A_INSCRITOS_PUNTAJES_2023_PAES_PUB_MRUN.csv\"\n",
    "test_score = pd.read_csv(path_test_score, delimiter=\";\", low_memory=False)\n",
    "test_score.head(2)"
   ]
  },
  {
   "cell_type": "code",
   "execution_count": 36,
   "metadata": {},
   "outputs": [
    {
     "data": {
      "text/html": [
       "<div>\n",
       "<style scoped>\n",
       "    .dataframe tbody tr th:only-of-type {\n",
       "        vertical-align: middle;\n",
       "    }\n",
       "\n",
       "    .dataframe tbody tr th {\n",
       "        vertical-align: top;\n",
       "    }\n",
       "\n",
       "    .dataframe thead th {\n",
       "        text-align: right;\n",
       "    }\n",
       "</style>\n",
       "<table border=\"1\" class=\"dataframe\">\n",
       "  <thead>\n",
       "    <tr style=\"text-align: right;\">\n",
       "      <th></th>\n",
       "      <th>MRUN</th>\n",
       "      <th>ANYO_PROCESO</th>\n",
       "      <th>CODIGO_REGION_DOMICILIO</th>\n",
       "      <th>CODIGO_PROVINCIA_DOMICILIO</th>\n",
       "      <th>CODIGO_COMUNA_DOMICILIO</th>\n",
       "      <th>NOMBRE_COMUNA_DOMICILIO</th>\n",
       "      <th>SEXO</th>\n",
       "      <th>FECHA_NACIMIENTO</th>\n",
       "      <th>INGRESO_PERCAPITA_GRUPO_FA</th>\n",
       "      <th>RAZON_PRINCIPAL_PAES</th>\n",
       "      <th>...</th>\n",
       "      <th>USO_ESPACIO_1</th>\n",
       "      <th>USO_ESPACIO_2</th>\n",
       "      <th>USO_ESPACIO_3</th>\n",
       "      <th>USO_ESPACIO_4</th>\n",
       "      <th>USO_ESPACIO_5</th>\n",
       "      <th>USO_ESPACIO_6</th>\n",
       "      <th>USO_ESPACIO_7</th>\n",
       "      <th>USO_ESPACIO_8</th>\n",
       "      <th>TRANQUILIDAD_COLEGIO</th>\n",
       "      <th>TRABAJO_GRUPO_COLEGIO</th>\n",
       "    </tr>\n",
       "  </thead>\n",
       "  <tbody>\n",
       "    <tr>\n",
       "      <th>0</th>\n",
       "      <td>3703667</td>\n",
       "      <td>2023</td>\n",
       "      <td>9</td>\n",
       "      <td>91</td>\n",
       "      <td>9101</td>\n",
       "      <td>TEMUCO</td>\n",
       "      <td>1</td>\n",
       "      <td>194708</td>\n",
       "      <td>8</td>\n",
       "      <td>1</td>\n",
       "      <td>...</td>\n",
       "      <td>0</td>\n",
       "      <td>0</td>\n",
       "      <td>0</td>\n",
       "      <td>0</td>\n",
       "      <td>0</td>\n",
       "      <td>0</td>\n",
       "      <td>0</td>\n",
       "      <td>0</td>\n",
       "      <td>9</td>\n",
       "      <td>9</td>\n",
       "    </tr>\n",
       "    <tr>\n",
       "      <th>1</th>\n",
       "      <td>8437289</td>\n",
       "      <td>2023</td>\n",
       "      <td>5</td>\n",
       "      <td>55</td>\n",
       "      <td>5506</td>\n",
       "      <td>NOGALES</td>\n",
       "      <td>1</td>\n",
       "      <td>194503</td>\n",
       "      <td>6</td>\n",
       "      <td>2</td>\n",
       "      <td>...</td>\n",
       "      <td>0</td>\n",
       "      <td>2</td>\n",
       "      <td>0</td>\n",
       "      <td>0</td>\n",
       "      <td>0</td>\n",
       "      <td>0</td>\n",
       "      <td>0</td>\n",
       "      <td>0</td>\n",
       "      <td>4</td>\n",
       "      <td>4</td>\n",
       "    </tr>\n",
       "  </tbody>\n",
       "</table>\n",
       "<p>2 rows × 39 columns</p>\n",
       "</div>"
      ],
      "text/plain": [
       "      MRUN  ANYO_PROCESO  CODIGO_REGION_DOMICILIO  CODIGO_PROVINCIA_DOMICILIO  \\\n",
       "0  3703667          2023                        9                          91   \n",
       "1  8437289          2023                        5                          55   \n",
       "\n",
       "   CODIGO_COMUNA_DOMICILIO NOMBRE_COMUNA_DOMICILIO  SEXO  FECHA_NACIMIENTO  \\\n",
       "0                     9101                  TEMUCO     1            194708   \n",
       "1                     5506                 NOGALES     1            194503   \n",
       "\n",
       "   INGRESO_PERCAPITA_GRUPO_FA  RAZON_PRINCIPAL_PAES  ... USO_ESPACIO_1  \\\n",
       "0                           8                     1  ...             0   \n",
       "1                           6                     2  ...             0   \n",
       "\n",
       "  USO_ESPACIO_2 USO_ESPACIO_3 USO_ESPACIO_4 USO_ESPACIO_5  USO_ESPACIO_6  \\\n",
       "0             0             0             0             0              0   \n",
       "1             2             0             0             0              0   \n",
       "\n",
       "   USO_ESPACIO_7  USO_ESPACIO_8 TRANQUILIDAD_COLEGIO  TRABAJO_GRUPO_COLEGIO  \n",
       "0              0              0                    9                      9  \n",
       "1              0              0                    4                      4  \n",
       "\n",
       "[2 rows x 39 columns]"
      ]
     },
     "execution_count": 36,
     "metadata": {},
     "output_type": "execute_result"
    }
   ],
   "source": [
    "path_socioeconomic = \"Prueba-de-Acceso-a-la-Educacion-Superior-2023-Socioeconomicos/B_SOCIOECONOMICO_DOMICILIO_2023_PAES_PUB_MRUN.csv\"\n",
    "socioeconomic = pd.read_csv(path_socioeconomic, delimiter=\";\")\n",
    "socioeconomic.head(2)"
   ]
  },
  {
   "cell_type": "code",
   "execution_count": 37,
   "metadata": {},
   "outputs": [
    {
     "data": {
      "text/plain": [
       "(296812, 155)"
      ]
     },
     "execution_count": 37,
     "metadata": {},
     "output_type": "execute_result"
    }
   ],
   "source": [
    "data = pd.merge(test_score, socioeconomic, how=\"inner\", on=\"MRUN\")\n",
    "data.shape"
   ]
  },
  {
   "cell_type": "code",
   "execution_count": 38,
   "metadata": {},
   "outputs": [
    {
     "data": {
      "text/plain": [
       "(230314, 155)"
      ]
     },
     "execution_count": 38,
     "metadata": {},
     "output_type": "execute_result"
    }
   ],
   "source": [
    "data = data[data[\"MATE1_REG_ACTUAL\"] != \" \"]\n",
    "data = data[data[\"CLEC_REG_ACTUAL\"] != \" \"]\n",
    "data = data[data[\"DEPENDENCIA\"] != \" \"]\n",
    "data = data[data[\"DEPENDENCIA\"] != \" \"]\n",
    "\n",
    "data[\"MATE1_REG_ACTUAL\"] = data[\"MATE1_REG_ACTUAL\"].astype(int)\n",
    "data[\"CLEC_REG_ACTUAL\"] = data[\"CLEC_REG_ACTUAL\"].astype(int)\n",
    "\n",
    "data = data[data[\"MATE1_REG_ACTUAL\"] > 0]\n",
    "data = data[data[\"CLEC_REG_ACTUAL\"] > 0]\n",
    "data.shape"
   ]
  },
  {
   "cell_type": "markdown",
   "metadata": {},
   "source": [
    ">After removing null values for our target variables, our dataset goes from 296,812 to 229,431 records. We validate that our variables do not have null values (except for the value 99 for per capita income)."
   ]
  },
  {
   "cell_type": "code",
   "execution_count": 39,
   "metadata": {},
   "outputs": [
    {
     "name": "stdout",
     "output_type": "stream",
     "text": [
      "Shape of the dataset: (230314, 155)\n",
      "Range of MATE1_REG_ACTUAL: 100 - 1000\n",
      "Range of CLEC_REG_ACTUAL: 100 - 1000\n",
      "\n",
      "Value counts for DEPENDENCIA:\n",
      "1     21048\n",
      "2     40680\n",
      "3    126462\n",
      "4     26555\n",
      "5      7175\n",
      "6      8394\n",
      "Name: DEPENDENCIA, dtype: int64\n",
      "\n",
      "Percentile of Per capita income:\n",
      "1     40318\n",
      "2     30588\n",
      "3     19978\n",
      "4     15730\n",
      "5     12437\n",
      "6     10635\n",
      "7     13026\n",
      "8     14615\n",
      "9     11036\n",
      "10    11497\n",
      "99    50454\n",
      "Name: INGRESO_PERCAPITA_GRUPO_FA, dtype: int64\n"
     ]
    }
   ],
   "source": [
    "print(\"Shape of the dataset:\", data.shape)\n",
    "print(\n",
    "    \"Range of MATE1_REG_ACTUAL:\",\n",
    "    min(data[\"MATE1_REG_ACTUAL\"]),\n",
    "    \"-\",\n",
    "    max(data[\"MATE1_REG_ACTUAL\"]),\n",
    ")\n",
    "print(\n",
    "    \"Range of CLEC_REG_ACTUAL:\",\n",
    "    min(data[\"CLEC_REG_ACTUAL\"]),\n",
    "    \"-\",\n",
    "    max(data[\"CLEC_REG_ACTUAL\"]),\n",
    ")\n",
    "print(\"\\nValue counts for DEPENDENCIA:\")\n",
    "print(data[\"DEPENDENCIA\"].value_counts().sort_index())\n",
    "print(\"\\nPercentile of Per capita income:\")\n",
    "print(data[\"INGRESO_PERCAPITA_GRUPO_FA\"].value_counts().sort_index())"
   ]
  },
  {
   "cell_type": "markdown",
   "metadata": {},
   "source": [
    ">### <span style=\"color: #008080\">EDA</span>\n",
    ">\n",
    ">Once our dataset is clean, we proceed to analyze its numbers. Firstly, we want to understand the distribution of PAES scores in the two main tests we will be investigating (Math and Reading), by type of educational establishment. Therefore, we will initially focus on understanding what proportion of students taking these tests belong to each type of establishment.\n",
    ">"
   ]
  },
  {
   "cell_type": "code",
   "execution_count": 40,
   "metadata": {},
   "outputs": [
    {
     "data": {
      "image/png": "[encoded data removed]",
      "text/plain": [
       "<Figure size 1000x600 with 1 Axes>"
      ]
     },
     "metadata": {},
     "output_type": "display_data"
    }
   ],
   "source": [
    "dependency_mapping = {\n",
    "    \"1\": \"Public School\",\n",
    "    \"2\": \"Public School\",\n",
    "    \"3\": \"Private subsidized School\",\n",
    "    \"4\": \"Private non-subsidized School\",\n",
    "    \"5\": \"Delegated Administration School\",\n",
    "    \"6\": \"Public School\",\n",
    "}\n",
    "\n",
    "dependency_order = [\n",
    "    \"Delegated Administration School\",\n",
    "    \"Private non-subsidized School\",\n",
    "    \"Private subsidized School\",\n",
    "    \"Public School\",\n",
    "]\n",
    "\n",
    "data[\"DEPENDENCY_NAME\"] = data[\"DEPENDENCIA\"].replace(dependency_mapping)\n",
    "dependency_counts = data[\"DEPENDENCY_NAME\"].value_counts()\n",
    "dependency_counts = dependency_counts.reindex(dependency_order)\n",
    "\n",
    "percentage_labels = (dependency_counts / len(data)) * 100\n",
    "\n",
    "plt.figure(figsize=(10, 6))\n",
    "bar_plot = dependency_counts.plot(kind=\"barh\", color=\"skyblue\")\n",
    "\n",
    "for index, value in enumerate(dependency_counts):\n",
    "    percentage_label = f\"{percentage_labels.iloc[index]:.1f}%\"\n",
    "    bar_plot.text(\n",
    "        value, index, percentage_label, ha=\"center\", va=\"center\", color=\"black\"\n",
    "    )\n",
    "\n",
    "plt.title(\"Number of Enrolled Students by Dependency for PAES Test in Chile 2023\")\n",
    "plt.xlabel(\"Number of Students\")\n",
    "\n",
    "plt.show()"
   ]
  },
  {
   "cell_type": "markdown",
   "metadata": {},
   "source": [
    ">In the previous graph, we can observe that the majority of Chilean students (55%) attend private schools with state subsidy. These schools receive funding from both the government and the families of the students. Then, 30% study in schools fully funded by the government, and 12% attend private schools. There are also Delegated Administration schools, which are owned by the state but managed and financed by private corporations. However, as they represent a special case and a minority, we will not analyze these schools in greater detail.\n",
    ">\n",
    ">Now we will see how the two general mandatory tests for admission to higher education, the mathematics competency test and the reading comprehension test, are distributed according to these types of educational institutions."
   ]
  },
  {
   "cell_type": "code",
   "execution_count": 41,
   "metadata": {},
   "outputs": [
    {
     "data": {
      "image/png": "[encoded data removed]",
      "text/plain": [
       "<Figure size 1800x800 with 2 Axes>"
      ]
     },
     "metadata": {},
     "output_type": "display_data"
    }
   ],
   "source": [
    "fig, axes = plt.subplots(1, 2, figsize=(18, 8))\n",
    "\n",
    "# MATH TEST\n",
    "sns.boxplot(\n",
    "    ax=axes[0],\n",
    "    x=\"DEPENDENCY_NAME\",\n",
    "    y=\"MATE1_REG_ACTUAL\",\n",
    "    data=data,\n",
    "    order=dependency_order[::-1],\n",
    "    palette=\"Set3\",\n",
    ")\n",
    "\n",
    "axes[0].set_title(\"Math PAES Test Scores by Dependency in Chile 2023\")\n",
    "axes[0].set_xlabel(\"\")\n",
    "axes[0].set_ylabel(\"Scores in Mathematical Competence Test 1\")\n",
    "axes[0].set_xticklabels(axes[0].get_xticklabels(), rotation=45, ha=\"right\")\n",
    "\n",
    "# READING TEST\n",
    "sns.boxplot(\n",
    "    ax=axes[1],\n",
    "    x=\"DEPENDENCY_NAME\",\n",
    "    y=\"CLEC_REG_ACTUAL\",\n",
    "    data=data,\n",
    "    order=dependency_order[::-1],\n",
    "    palette=\"Set3\",\n",
    ")\n",
    "\n",
    "axes[1].set_title(\"Reading PAES Test Scores by Dependency in Chile 2023\")\n",
    "axes[1].set_xlabel(\"\")\n",
    "axes[1].set_ylabel(\"Scores in Reading Comprehension Test\")\n",
    "axes[1].set_xticklabels(axes[0].get_xticklabels(), rotation=45, ha=\"right\")\n",
    "\n",
    "\n",
    "plt.subplots_adjust(wspace=0.3)\n",
    "\n",
    "plt.show()"
   ]
  },
  {
   "cell_type": "markdown",
   "metadata": {},
   "source": [
    ">In the graphs above, a marked difference is evident in the scores obtained in university admission tests between students from public schools and those from subsidized and private schools.\n",
    ">\n",
    ">In both tests, private schools stand out significantly above other educational institutions, despite showing greater variability in the results. Specifically, private schools exhibit a difference of more than 150 points in the median for mathematics compared to other schools and a difference of over 100 points in reading comprehension.\n",
    ">\n",
    ">Furthermore, the most notable disparity is observed in the mathematics test, which is logical as this assessment requires a greater mastery of content.\n",
    ">\n",
    ">It is worth noting that subsidized schools, representing the majority of students, fall in an intermediate position in terms of performance between private and public schools. This highlights their mixed nature."
   ]
  },
  {
   "cell_type": "code",
   "execution_count": 42,
   "metadata": {},
   "outputs": [
    {
     "data": {
      "image/png": "[encoded data removed]",
      "text/plain": [
       "<Figure size 1800x800 with 2 Axes>"
      ]
     },
     "metadata": {},
     "output_type": "display_data"
    }
   ],
   "source": [
    "data2 = data[data[\"INGRESO_PERCAPITA_GRUPO_FA\"] != 99]\n",
    "\n",
    "fig, axes = plt.subplots(1, 2, figsize=(18, 8))\n",
    "\n",
    "\n",
    "# MATH TEST\n",
    "sns.boxplot(\n",
    "    ax=axes[0],\n",
    "    x=\"INGRESO_PERCAPITA_GRUPO_FA\",\n",
    "    y=\"MATE1_REG_ACTUAL\",\n",
    "    data=data2,\n",
    "    order=data2[\"INGRESO_PERCAPITA_GRUPO_FA\"].sort_values().unique(),\n",
    "    palette=\"Set3\",\n",
    ")\n",
    "\n",
    "axes[0].set_title(\"Math PAES Test Scores by Family Income Decile in Chile 2023\")\n",
    "axes[0].set_xlabel(\"\")\n",
    "axes[0].set_ylabel(\"Scores in Mathematical Competence Test 1\")\n",
    "axes[0].set_xticklabels(axes[0].get_xticklabels(), rotation=45, ha=\"right\")\n",
    "\n",
    "# READING TEST\n",
    "sns.boxplot(\n",
    "    ax=axes[1],\n",
    "    x=\"INGRESO_PERCAPITA_GRUPO_FA\",\n",
    "    y=\"CLEC_REG_ACTUAL\",\n",
    "    data=data2,\n",
    "    order=data2[\"INGRESO_PERCAPITA_GRUPO_FA\"].sort_values().unique(),\n",
    "    palette=\"Set3\",\n",
    ")\n",
    "\n",
    "axes[1].set_title(\"Reading PAES Test Scores by Family Income Decile in Chile 2023\")\n",
    "axes[1].set_xlabel(\"\")\n",
    "axes[1].set_ylabel(\"Scores in Reading Comprehension Test\")\n",
    "axes[1].set_xticklabels(axes[0].get_xticklabels(), rotation=45, ha=\"right\")\n",
    "\n",
    "plt.subplots_adjust(wspace=0.3)\n",
    "plt.show()"
   ]
  },
  {
   "cell_type": "markdown",
   "metadata": {},
   "source": [
    ">If we analyze the same numbers disaggregated by family income decile, we can see that there are no significant differences for the first 8 deciles. However, the 9th and 10th deciles of the population tend to exhibit a much greater separation from the rest.\n",
    ">\n",
    ">Once again, we can observe that the difference in results by socioeconomic level is more pronounced in mathematics."
   ]
  },
  {
   "cell_type": "markdown",
   "metadata": {},
   "source": [
    ">### <span style=\"color: #008080\">Conclusions and Future Research</span>\n",
    "> \n",
    ">After exploring the results of the 2023 PAES test, it is evident that it falls short of achieving its initial goal of providing a more equitable tool to facilitate students' access to university. Various challenges related to equity emerge, including notable disparities among different types of educational institutions and socioeconomic strata.\n",
    ">\n",
    ">One aspect not addressed in this analysis is the direct comparison between PAES and PSU results in terms of equity in access to higher education. It would be essential to delve into this aspect to assess whether the introduction of PAES has led to significant improvements or if similar challenges persist compared to the previous test. This comparison could shed light on the effectiveness of implemented reforms and provide valuable insights for future educational policies aimed at enhancing equity in access to higher education in Chile.\n",
    ">\n",
    ">What remains clear is that we still have a long way to go to ensure true equal opportunities in access to higher education in Chile. The persistence of significant disparities among different student groups and the failure to meet the initial goals of PAES underscore the urgent need to review and adjust current educational policies.\n"
   ]
  },
  {
   "cell_type": "markdown",
   "metadata": {},
   "source": [
    ">### <span style=\"color: #008080\">References</span>\n",
    ">\n",
    "> Education in Chile: https://en.wikipedia.org/wiki/Education_in_Chile\n",
    ">\n",
    "> PAES Database: https://datosabiertos.mineduc.cl/pruebas-de-admision-a-la-educacion-superior/"
   ]
  }
 ],
 "metadata": {
  "kernelspec": {
   "display_name": "base",
   "language": "python",
   "name": "python3"
  },
  "language_info": {
   "codemirror_mode": {
    "name": "ipython",
    "version": 3
   },
   "file_extension": ".py",
   "mimetype": "text/x-python",
   "name": "python",
   "nbconvert_exporter": "python",
   "pygments_lexer": "ipython3",
   "version": "3.11.5"
  },
  "nteract": {
   "version": "0.28.0"
  },
  "varInspector": {
   "cols": {
    "lenName": 16,
    "lenType": 16,
    "lenVar": 40
   },
   "kernels_config": {
    "python": {
     "delete_cmd_postfix": "",
     "delete_cmd_prefix": "del ",
     "library": "var_list.py",
     "varRefreshCmd": "print(var_dic_list())"
    },
    "r": {
     "delete_cmd_postfix": ") ",
     "delete_cmd_prefix": "rm(",
     "library": "var_list.r",
     "varRefreshCmd": "cat(var_dic_list()) "
    }
   },
   "position": {
    "height": "643px",
    "left": "1548px",
    "right": "20px",
    "top": "121px",
    "width": "350px"
   },
   "types_to_exclude": [
    "module",
    "function",
    "builtin_function_or_method",
    "instance",
    "_Feature"
   ],
   "window_display": true
  },
  "vscode": {
   "interpreter": {
    "hash": "f54e0b9f92ceb50229b3b7ea26b5d02f05ce8845dd8d997c014a0efede4c9c20"
   }
  }
 },
 "nbformat": 4,
 "nbformat_minor": 2
}
