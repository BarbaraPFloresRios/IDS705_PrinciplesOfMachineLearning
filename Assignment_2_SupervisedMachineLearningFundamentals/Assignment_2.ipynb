{
 "cells": [
  {
   "cell_type": "markdown",
   "metadata": {},
   "source": [
    "# Assignment 2 - Supervised Machine Learning Fundamentals"
   ]
  },
  {
   "cell_type": "markdown",
   "metadata": {},
   "source": [
    "## *BARBARA FLORES RIOS*\n",
    "Netid: bpf17\n",
    "\n",
    "*Names of students you worked with on this assignment*: LIST HERE IF APPLICABLE (delete if not)\n",
    "\n",
    "Instructions for all assignments can be found [here](https://kylebradbury.github.io/ids705/notebooks/assignment_instructions.html).\n",
    "\n",
    "Note: this assignment falls under collaboration Mode 2: Individual Assignment – Collaboration Permitted. Please refer to the syllabus for additional information.\n",
    "\n",
    "Total points in the assignment add up to 90; an additional 10 points are allocated to presentation quality."
   ]
  },
  {
   "cell_type": "markdown",
   "metadata": {},
   "source": [
    "## Learning Objectives:\n",
    "By successfully completing this assignment you will be able to...\n",
    "- Explain the bias-variance tradeoff of supervised machine learning and the impact of model flexibility on algorithm performance\n",
    "- Perform supervised machine learning training and performance evaluation\n",
    "- Implement a k-nearest neighbors machine learning algorithm from scratch in a style similar to that of popular machine learning tools like `scikit-learn`\n",
    "- Describe how KNN classification works, the method's reliance on distance measurements, and the impact of higher dimensionality on computational speed\n",
    "- Apply regression (linear regression) and classification (KNN) supervised learning techniques to data and evaluate the performance of those methods\n",
    "- Construct simple feature transformations for improving model fit in linear models\n",
    "- Fit a `scikit-learn` supervised learning technique to training data and make predictions using it"
   ]
  },
  {
   "cell_type": "code",
   "execution_count": 19,
   "metadata": {},
   "outputs": [],
   "source": [
    "# MAC USERS TAKE NOTE:\n",
    "# For clearer plots in Jupyter notebooks on macs, run the following line of code:\n",
    "# %config InlineBackend.figure_format = 'retina'"
   ]
  },
  {
   "cell_type": "code",
   "execution_count": 20,
   "metadata": {},
   "outputs": [],
   "source": [
    "%config InlineBackend.figure_format = 'retina'\n",
    "import numpy as np\n",
    "import pandas as pd"
   ]
  },
  {
   "attachments": {},
   "cell_type": "markdown",
   "metadata": {},
   "source": [
    "---\n",
    "\n",
    "# Conceptual Questions on Supervised Learning"
   ]
  },
  {
   "cell_type": "markdown",
   "metadata": {},
   "source": [
    "## 1\n",
    "**[4 points]**\n",
    "For each part below, indicate whether we would generally expect the performance of a flexible statistical learning method to be *better* or *worse* than an inflexible method. Justify your answer.\n",
    "\n",
    "1. The sample size $n$ is extremely large, and the number of predictors $p$ is small.\n",
    "2. The number of predictors $p$ is extremely large, and the number of observations $n$ is small.\n",
    "3. The relationship between the predictors and response is highly non-linear.\n",
    "4. The variance of the error terms, i.e. $\\sigma^2 = Var(\\epsilon)$, is extremely high"
   ]
  },
  {
   "cell_type": "markdown",
   "metadata": {},
   "source": [
    "**ANSWER**"
   ]
  },
  {
   "cell_type": "markdown",
   "metadata": {},
   "source": [
    ">Before addressing the following scenarios, it is important to note that there are no strict rules to determine whether a flexible or inflexible method is preferable. The choice depends on various factors, such as the interpretability of the model and computational efficiency.\n",
    ">\n",
    ">For example, if interpretability is highly valued or there are computational limitations, an inflexible model may be preferable. Its simplicity facilitates understanding, and its lower complexity can be more efficient in terms of computational resources.\n",
    ">\n",
    ">Therefore, we will consider that, while the choice between flexible and inflexible methods depends on the specific context, in the following questions, we will approach the scenarios with a general perspective.\n",
    ">\n",
    ">1 . The sample size $n$ is extremely large, and the number of predictors $p$ is small.\n",
    ">\n",
    "> In this case, we would prefer a `flexible model` since, with an extremely large sample size and a small number of predictors $p$, we can train the model more robustly, avoiding overfitting, and leveraging the flexible model's ability to capture complex patterns. If the number of predictors $p$ is small, the additional complexity of a flexible model is not a significant problem.\n",
    ">\n",
    ">2 . The number of predictors $p$ is extremely large, and the number of observations $n$ is small.\n",
    ">\n",
    "> In this scenario, opting for a `inflexible model` would be better. This is because, with an extremely large number of predictors $p$ and a small sample size $n$, a highly flexible model could struggle to generalize effectively. The additional complexity could lead to significant overfitting, especially given the limited number of observations available to reliably estimate the relationships among so many predictors.\n",
    ">\n",
    ">3 . The relationship between the predictors and response is highly non-linear.\n",
    ">\n",
    "> In this scenario, opting for a `flexible model` is preferable to capture the underlying patterns between the independent and dependent variables. However, it's crucial to be cautious, as excessive flexibility could lead to overfitting. Finding a balance is generally expected. Nonetheless, choosing an inflexible model, such as linear regression, would not be recommended due to the highly non-linear nature of the relationship between predictors and the response.\n",
    ">\n",
    ">4 . The variance of the error terms, i.e. $\\sigma^2 = Var(\\epsilon)$, is extremely high\n",
    ">\n",
    "> In this scenario, choosing a `inflexible model` is preferable. Given the high level of variability, employing a highly flexible model tends to closely fit to this variability in our data, resulting in overfitting. A less flexible model, with better generalization capability, would be more appropriate."
   ]
  },
  {
   "attachments": {},
   "cell_type": "markdown",
   "metadata": {},
   "source": [
    "---\n",
    "\n",
    "## 2\n",
    "**[6 points]** For each of the following, (i) explain if each scenario is a classification or regression problem AND why, (ii) indicate whether we are most interested in inference or prediction for that problem AND why, and (iii) provide the sample size $n$ and number of predictors $p$ indicated for each scenario.\n",
    "\n",
    "**(a)** We collect a set of data on the top 500 firms in the US. For each firm we record profit, number of employees, industry and the CEO salary. We are interested in understanding which factors affect CEO salary.\n",
    "\n",
    "**(b)** We are considering launching a new product and wish to know whether it will be a success or a failure. We collect data on 20 similar products that were previously launched. For each product we have recorded whether it was a success or failure, price charged for the product, marketing budget, competition price, and ten other variables.\n",
    "\n",
    "**(c)** We are interested in predicting the % change in the US dollar in relation to the weekly changes in the world stock markets. Hence we collect weekly data for all of 2012. For each week we record the % change in the dollar, the % change in the US market, the % change in the British market, and the % change in the German market."
   ]
  },
  {
   "cell_type": "markdown",
   "metadata": {},
   "source": [
    "**ANSWER**\n"
   ]
  },
  {
   "cell_type": "markdown",
   "metadata": {},
   "source": [
    ">**(a) We collect a set of data on the top 500 firms in the US. For each firm we record profit, number of employees, industry and the CEO salary. We are interested in understanding which factors affect CEO salary.**\n",
    ">\n",
    ">(i) In this case, we are dealing with a `regression problem` because our dependent variable is numerical (CEO salary). \n",
    ">\n",
    ">(ii) In the presented scenario, we are addressing an `inference problem` since our primary interest lies in understanding the association between our dependent variable (CEO salary) and our independent variables, rather than predicting the dependent variable for new data. \n",
    ">\n",
    ">(iii) The sample size `n is 500`, and the number of predictors `p is 3` (profit, number of employees, industry). It's worth noting that when working with the 'industry' variable, transforming it into a binary form for modeling purposes may result in (N° of distinct industries - 1) additional predictors due to the encoding process.\n",
    ">\n",
    ">**(b) We are considering launching a new product and wish to know whether it will be a success or a failure. We collect data on 20 similar products that were previously launched. For each product we have recorded whether it was a success or failure, price charged for the product, marketing budget, competition price, and ten other variables.**\n",
    ">\n",
    ">(i) It is a `classification problem` since the dependent variable is binary and categorical, indicating whether a product is a success or a failure.\n",
    ">\n",
    ">(ii) In this case, we are dealing with a `prediction problem`. We want to use the data collected on similar products launched previously to predict whether our new product will be a success or a failure.\n",
    ">\n",
    ">(iii) The sample size `n is 20`, and the number of predictors `p is 13` (price charged for the product, marketing budget, competition price, and ten other variables).\n",
    ">\n",
    ">**(c) We are interested in predicting the % change in the US dollar in relation to the weekly changes in the world stock markets. Hence we collect weekly data for all of 2012. For each week we record the % change in the dollar, the % change in the US market, the % change in the British market, and the % change in the German market.**\n",
    ">\n",
    ">(i) This is a `regression problem` since the variable to predict is a continuous numerical variable (% change in the US dollar).\n",
    ">\n",
    ">(ii) Our primary interest is in solving a `prediction problem`, as explicitly stated in the problem definition. The main goal is to predict, for future scenarios, the value of our dependent variable, % change in the US dollar .\n",
    ">\n",
    ">(iii) Given the weekly data for the entire year of 2012, our sample size `n is 52`. The number of predictors `p is 3` (the % change in the US market, the % change in the British market, and the % change in the German market)."
   ]
  },
  {
   "attachments": {},
   "cell_type": "markdown",
   "metadata": {},
   "source": [
    "---\n",
    "\n",
    "# Practical Questions"
   ]
  },
  {
   "cell_type": "markdown",
   "metadata": {},
   "source": [
    "## 3\n",
    "**[6 points] Classification using KNN**. The table below provides a training dataset containing six observations (a.k.a. samples) ($n=6$) each with three predictors (a.k.a. features) ($p=3$), and one qualitative response variable (a.k.a. target).\n",
    "\n",
    "*Table 1. Training dataset with $n=6$ observations in $p=3$ dimensions with a categorical response, $y$*\n",
    "\n",
    "| Obs. | $x_1$ | $x_2$ | $x_3$ | $y$   |\n",
    "|------|-------|-------|-------|-------|\n",
    "| **1**| 0     | 3     | 0     | Red   |\n",
    "| **2**| 2     | 0     | 0     | Red   |\n",
    "| **3**| 0     | 1     | 3     | Red   |\n",
    "| **4**| 0     | 1     | 2     | Blue  |\n",
    "| **5**| -1    | 0     | 1     | Blue  |\n",
    "| **6**| 1     | 1     | 1     | Red   |\n",
    "\n",
    "We want to use the above training dataset to make a prediction, $\\hat{y}$, for an unlabeled test data observation where $x_1=x_2=x_3=0$ using $K$-nearest neighbors. You are given some code below to get you started. *Note: coding is only required for part (a), for (b)-(d) please provide your reasoning based on your answer to part (a)*.\n",
    "\n",
    "**(a)** Compute the Euclidean distance between each observation and the test point, $x_1=x_2=x_3=0$. Present your answer in a table similar in style to Table 1 with observations 1-6 as the row headers.\n",
    "\n",
    "**(b)** What is our prediction, $\\hat{y}$, when $K=1$ for the test point? Why?\n",
    "\n",
    "**(c)** What is our prediction, $\\hat{y}$, when $K=3$ for the test point? Why?\n",
    "\n",
    "**(d)** If the Bayes decision boundary (the optimal decision boundary) in this problem is highly nonlinear, then would we expect the *best* value of $K$ to be large or small? Why?"
   ]
  },
  {
   "cell_type": "code",
   "execution_count": 21,
   "metadata": {},
   "outputs": [],
   "source": [
    "import numpy as np\n",
    "\n",
    "X = np.array([[0, 3, 0], [2, 0, 0], [0, 1, 3],\n",
    "             [0, 1, 2], [-1, 0, 1], [1, 1, 1]])\n",
    "y = np.array([\"r\", \"r\", \"r\", \"b\", \"b\", \"r\"])"
   ]
  },
  {
   "cell_type": "markdown",
   "metadata": {},
   "source": [
    "**ANSWER**:"
   ]
  },
  {
   "cell_type": "code",
   "execution_count": 22,
   "metadata": {},
   "outputs": [
    {
     "name": "stdout",
     "output_type": "stream",
     "text": [
      "(a)\n",
      "\n",
      "It's worth mentioning that, given that variables x1, x2, and x3 are on similar scales, we will not normalize the variables\n"
     ]
    },
    {
     "data": {
      "text/html": [
       "<div>\n",
       "<style scoped>\n",
       "    .dataframe tbody tr th:only-of-type {\n",
       "        vertical-align: middle;\n",
       "    }\n",
       "\n",
       "    .dataframe tbody tr th {\n",
       "        vertical-align: top;\n",
       "    }\n",
       "\n",
       "    .dataframe thead th {\n",
       "        text-align: right;\n",
       "    }\n",
       "</style>\n",
       "<table border=\"1\" class=\"dataframe\">\n",
       "  <thead>\n",
       "    <tr style=\"text-align: right;\">\n",
       "      <th></th>\n",
       "      <th>x1</th>\n",
       "      <th>x2</th>\n",
       "      <th>x3</th>\n",
       "      <th>y</th>\n",
       "      <th>euclidean dist</th>\n",
       "    </tr>\n",
       "    <tr>\n",
       "      <th>Obs.</th>\n",
       "      <th></th>\n",
       "      <th></th>\n",
       "      <th></th>\n",
       "      <th></th>\n",
       "      <th></th>\n",
       "    </tr>\n",
       "  </thead>\n",
       "  <tbody>\n",
       "    <tr>\n",
       "      <th>1</th>\n",
       "      <td>0</td>\n",
       "      <td>3</td>\n",
       "      <td>0</td>\n",
       "      <td>r</td>\n",
       "      <td>3.0</td>\n",
       "    </tr>\n",
       "    <tr>\n",
       "      <th>2</th>\n",
       "      <td>2</td>\n",
       "      <td>0</td>\n",
       "      <td>0</td>\n",
       "      <td>r</td>\n",
       "      <td>2.0</td>\n",
       "    </tr>\n",
       "    <tr>\n",
       "      <th>3</th>\n",
       "      <td>0</td>\n",
       "      <td>1</td>\n",
       "      <td>3</td>\n",
       "      <td>r</td>\n",
       "      <td>3.16</td>\n",
       "    </tr>\n",
       "    <tr>\n",
       "      <th>4</th>\n",
       "      <td>0</td>\n",
       "      <td>1</td>\n",
       "      <td>2</td>\n",
       "      <td>b</td>\n",
       "      <td>2.24</td>\n",
       "    </tr>\n",
       "    <tr>\n",
       "      <th>5</th>\n",
       "      <td>-1</td>\n",
       "      <td>0</td>\n",
       "      <td>1</td>\n",
       "      <td>b</td>\n",
       "      <td>1.41</td>\n",
       "    </tr>\n",
       "    <tr>\n",
       "      <th>6</th>\n",
       "      <td>1</td>\n",
       "      <td>1</td>\n",
       "      <td>1</td>\n",
       "      <td>r</td>\n",
       "      <td>1.73</td>\n",
       "    </tr>\n",
       "  </tbody>\n",
       "</table>\n",
       "</div>"
      ],
      "text/plain": [
       "      x1 x2 x3  y euclidean dist\n",
       "Obs.                            \n",
       "1      0  3  0  r            3.0\n",
       "2      2  0  0  r            2.0\n",
       "3      0  1  3  r           3.16\n",
       "4      0  1  2  b           2.24\n",
       "5     -1  0  1  b           1.41\n",
       "6      1  1  1  r           1.73"
      ]
     },
     "execution_count": 22,
     "metadata": {},
     "output_type": "execute_result"
    }
   ],
   "source": [
    "print(\"(a)\")\n",
    "print(\n",
    "    \"\\nIt's worth mentioning that, given that variables x1, x2, and x3 are on similar scales, we will not normalize the variables\"\n",
    ")\n",
    "\n",
    "x0 = np.array([0, 0, 0])\n",
    "\n",
    "euclidean_distance = ((np.sum((X - x0) ** 2, axis=1)) ** 0.5).round(2)\n",
    "result = np.column_stack((np.arange(1, 7), X, y, euclidean_distance))\n",
    "\n",
    "column_names = [\"Obs.\", \"x1\", \"x2\", \"x3\", \"y\", \"euclidean dist\"]\n",
    "df = pd.DataFrame(result, columns=column_names)\n",
    "df.set_index(\"Obs.\", inplace=True)\n",
    "df"
   ]
  },
  {
   "cell_type": "markdown",
   "metadata": {},
   "source": [
    ">**(b)What is our prediction, $\\hat{y}$, when $K=1$ for the test point? Why?** \n",
    ">\n",
    ">If $K=1$, the prediction for $\\hat{y}$ is `Blue` because the first nearest neighbor is the 5th observation, which is at a distance of 1.41 units and belongs to the Blue category.\n",
    ">\n",
    ">**(c) What is our prediction, $\\hat{y}$, when $K=3$ for the test point? Why?**\n",
    ">\n",
    ">In the case of using $K=3$ , we will consider the 3 closest observations, which are the 5th (Blue), 6th (Red), and 2nd (Red). These are located at distances of 1.41, 1.73, and 2, respectively, from the observation we want to predict. Since out of these 3 observations we have 2 Red and 1 Blue, the prediction for $\\hat{y}$ with $K=3$  is `Red`.\n",
    ">\n",
    ">**(d) If the Bayes decision boundary (the optimal decision boundary) in this problem is highly nonlinear, then would we expect the *best* value of $K$ to be large or small? Why?**\n",
    ">\n",
    ">In a KNN classifier, a low value of $K$ provides a lot of flexibility to the model, allowing for a more precise adaptation to the complexities of a nonlinear decision boundary. As $K$ increases, the model becomes less flexible and tends to produce a decision boundary that  is close to linear. Since our Bayes decision boundary is highly nonlinear, it would be preferable to opt for a more flexible model, which translates to a `small value for K`, to better capture the inherent complexity in the data and fit more closely to the nonlinear optimal decision boundary."
   ]
  },
  {
   "attachments": {},
   "cell_type": "markdown",
   "metadata": {},
   "source": [
    "---\n",
    "\n",
    "## 4\n",
    "**[18 points] Build your own classification algorithm**.\n",
    "\n",
    "**(a)** Build a working version of a binary KNN classifier using the skeleton code below. We'll use the `sklearn` convention that a supervised learning algorithm has the methods `fit` which trains your algorithm (for KNN that means storing the data) and `predict` which identifies the K nearest neighbors and determines the most common class among those K neighbors. *Note: Most classification algorithms typically also have a method `predict_proba` which outputs the confidence score of each prediction, but we will explore that in a later assignment.*\n",
    "\n",
    "**(b)** Load the datasets to be evaluated here. Each includes training features ($\\mathbf{X}$), and test features ($\\mathbf{y}$) for both a low dimensional dataset ($p = 2$ features/predictors) and a higher dimensional dataset ($p = 100$ features/predictors). For each of these datasets there are $n=1000$ observations of each. They can be found in the `data` subfolder in the `assignments` folder on github. Each file is labeled similar to `A2_X_train_low.csv`, which lets you know whether the dataset is of features, $X$, targets, $y$; training or testing; and low or high dimensions.\n",
    "\n",
    "**(c)** Train your classifier on first the low dimensional dataset and then the high dimensional dataset with $k=5$. Evaluate the classification performance on the corresponding test data for each of those trained models. Calculate the time it takes each model to make the predictions and the overall accuracy of those predictions for each corresponding set of test data - state each.\n",
    "\n",
    "**(d)** Compare your implementation's accuracy and computation time to the scikit learn [KNeighborsClassifier](http://scikit-learn.org/stable/modules/generated/sklearn.neighbors.KNeighborsClassifier.html) class. How do the results and speed compare to your implementation? *Hint: your results should be identical to that of the scikit-learn implementation.*\n",
    "\n",
    "**(e)** Some supervised learning algorithms are more computationally intensive during training than testing. What are the drawbacks of the prediction process being slow? In what cases in practice might slow testing (inference) be more problematic than slow training?"
   ]
  },
  {
   "cell_type": "code",
   "execution_count": 23,
   "metadata": {},
   "outputs": [],
   "source": [
    "# Skeleton code for part (a) to write your own kNN classifier\n",
    "\n",
    "\n",
    "class Knn:\n",
    "    # k-Nearest Neighbor class object for classification training and testing\n",
    "    def __init__(self):\n",
    "        pass\n",
    "\n",
    "    def fit(self, x, y):\n",
    "        # Save the training data to properties of this class\n",
    "        pass\n",
    "\n",
    "    def predict(self, x, k):\n",
    "        y_hat = []  # Variable to store the estimated class label for\n",
    "        # Calculate the distance from each vector in x to the training data\n",
    "\n",
    "        # Return the estimated targets\n",
    "        return y_hat\n",
    "\n",
    "\n",
    "# Metric of overall classification accuracy\n",
    "#  (a more general function, sklearn.metrics.accuracy_score, is also available)\n",
    "\n",
    "\n",
    "def accuracy(y, y_hat):\n",
    "    nvalues = len(y)\n",
    "    accuracy = sum(y == y_hat) / nvalues\n",
    "    return accuracy"
   ]
  },
  {
   "cell_type": "markdown",
   "metadata": {},
   "source": [
    "**ANSWER**:"
   ]
  },
  {
   "cell_type": "code",
   "execution_count": 29,
   "metadata": {},
   "outputs": [],
   "source": [
    "# (a)\n",
    "\n",
    "\n",
    "class Knn:\n",
    "    # k-Nearest Neighbor class object for classification training and testing\n",
    "    def __init__(self):\n",
    "        self.x_train = None\n",
    "        self.y_train = None\n",
    "\n",
    "    def fit(self, x, y):\n",
    "        # Save the training data to properties of this class\n",
    "        self.x_train = x\n",
    "        self.y_train = y\n",
    "\n",
    "    def predict(self, x, k):\n",
    "        y_hat = []  # Variable to store the estimated class label for\n",
    "        # Calculate the distance from each vector in x to the training data\n",
    "\n",
    "        euclidean_distance = (\n",
    "            np.sum((self.x_train[:, np.newaxis] - x) ** 2, axis=2) ** 0.5\n",
    "        )\n",
    "\n",
    "        for column in euclidean_distance.T:\n",
    "            # here we obtain the indices of the k nearest neighbors.\n",
    "            k_smallest_d_indices = np.argsort(column)[:k]\n",
    "            y_predicted = round(np.mean(self.y_train[k_smallest_d_indices]))\n",
    "            y_hat.append(y_predicted)\n",
    "\n",
    "        return y_hat\n",
    "\n",
    "\n",
    "# Metric of overall classification accuracy\n",
    "#  (a more general function, sklearn.metrics.accuracy_score, is also available)\n",
    "\n",
    "\n",
    "def accuracy(y, y_hat):\n",
    "    nvalues = len(y)\n",
    "    accuracy = sum(y == y_hat) / nvalues\n",
    "    return accuracy"
   ]
  },
  {
   "cell_type": "code",
   "execution_count": 33,
   "metadata": {},
   "outputs": [
    {
     "data": {
      "text/plain": [
       "[0]"
      ]
     },
     "execution_count": 33,
     "metadata": {},
     "output_type": "execute_result"
    }
   ],
   "source": [
    "x_train = np.array([[0, 3, 0], [2, 0, 0], [0, 1, 3],\n",
    "                   [0, 1, 2], [-1, 0, 1], [1, 1, 1]])\n",
    "y_train = np.array([0, 0, 0, 1, 1, 0])\n",
    "\n",
    "X_test = np.array([[0, 0, 0]])\n",
    "k = 3\n",
    "\n",
    "test_Knn = Knn()\n",
    "test_Knn.fit(x_train, y_train)\n",
    "test_Knn.predict(X_test, k)"
   ]
  },
  {
   "cell_type": "code",
   "execution_count": 25,
   "metadata": {},
   "outputs": [
    {
     "data": {
      "text/plain": [
       "array([0])"
      ]
     },
     "execution_count": 25,
     "metadata": {},
     "output_type": "execute_result"
    }
   ],
   "source": [
    "x_train = np.array([[0, 3, 0], [2, 0, 0], [0, 1, 3],\n",
    "                   [0, 1, 2], [-1, 0, 1], [1, 1, 1]])\n",
    "y_train = np.array([0, 0, 0, 1, 1, 0])\n",
    "\n",
    "X_test = np.array([[0, 0, 0]])\n",
    "k = 3\n",
    "\n",
    "euclidean_distance = np.sum(\n",
    "    (x_train[:, np.newaxis] - X_test) ** 2, axis=2) ** 0.5\n",
    "\n",
    "y_predicted_list = []\n",
    "for column in euclidean_distance.T:\n",
    "    # here we obtain the indices of the k nearest neighbors.\n",
    "    k_smallest_distances_indices = np.argsort(column)[:k]\n",
    "    y_predicted = round(np.mean(y_train[k_smallest_distances_indices]))\n",
    "    y_predicted_list.append(y_predicted)\n",
    "\n",
    "y_hat = np.array(y_predicted_list)\n",
    "y_hat"
   ]
  },
  {
   "cell_type": "code",
   "execution_count": 26,
   "metadata": {},
   "outputs": [
    {
     "ename": "TypeError",
     "evalue": "Knn.__init__() takes 1 positional argument but 3 were given",
     "output_type": "error",
     "traceback": [
      "\u001b[0;31m---------------------------------------------------------------------------\u001b[0m",
      "\u001b[0;31mTypeError\u001b[0m                                 Traceback (most recent call last)",
      "Cell \u001b[0;32mIn[26], line 1\u001b[0m\n\u001b[0;32m----> 1\u001b[0m test_MyLinearModel \u001b[38;5;241m=\u001b[39m \u001b[43mKnn\u001b[49m\u001b[43m(\u001b[49m\u001b[38;5;241;43m2\u001b[39;49m\u001b[43m,\u001b[49m\u001b[43m \u001b[49m\u001b[38;5;241;43m3\u001b[39;49m\u001b[43m)\u001b[49m\n\u001b[1;32m      2\u001b[0m test_MyLinearModel\u001b[38;5;241m.\u001b[39mfit()\n",
      "\u001b[0;31mTypeError\u001b[0m: Knn.__init__() takes 1 positional argument but 3 were given"
     ]
    }
   ],
   "source": [
    "test_MyLinearModel = Knn(2, 3)\n",
    "test_MyLinearModel.fit()"
   ]
  },
  {
   "cell_type": "code",
   "execution_count": null,
   "metadata": {},
   "outputs": [],
   "source": [
    "X = np.array([[0, 3, 0], [2, 0, 0], [0, 1, 3], [0, 1, 2], [-1, 0, 1], [1, 1, 1]])\n",
    "y = np.array([0, 0, 0, 1, 1, 0])\n",
    "\n",
    "X_test = np.array([[1, 1, 1], [2, 2, 2]])\n",
    "k = 1\n",
    "\n",
    "euclidean_distance = np.sum((X[:, np.newaxis] - X_test) ** 2, axis=2) ** 0.5\n",
    "\n",
    "\n",
    "for i in range(euclidean_distance.shape[1]):\n",
    "\n",
    "    print(np.argsort(euclidean_distance[:, i]))"
   ]
  },
  {
   "cell_type": "code",
   "execution_count": null,
   "metadata": {},
   "outputs": [],
   "source": [
    "euclidean_distance"
   ]
  },
  {
   "cell_type": "code",
   "execution_count": null,
   "metadata": {},
   "outputs": [],
   "source": [
    "X = np.array([[0, 3, 0], [2, 0, 0], [0, 1, 3], [0, 1, 2], [-1, 0, 1], [1, 1, 1]])\n",
    "y = np.array([0, 0, 0, 1, 1, 0])\n",
    "\n",
    "X_test = np.array([[0, 0, 0]])\n",
    "k = 3\n",
    "\n",
    "euclidean_distance = np.sum((X[:, np.newaxis] - X_test) ** 2, axis=2) ** 0.5\n",
    "\n",
    "y_predicted_list = []\n",
    "for column in euclidean_distance.T:\n",
    "    # here we obtain the indices of the k nearest neighbors.\n",
    "    k_smallest_distances_indices = np.argsort(column)[:k]\n",
    "    print(k_smallest_distances_indices)\n",
    "    print(y[k_smallest_distances_indices])\n",
    "    y_predicted = round(np.mean(y[k_smallest_distances_indices]))\n",
    "    y_predicted_list.append(y_predicted)\n",
    "\n",
    "y_hat = np.array(y_predicted_list)\n",
    "y_hat"
   ]
  },
  {
   "cell_type": "code",
   "execution_count": null,
   "metadata": {},
   "outputs": [],
   "source": [
    "y"
   ]
  },
  {
   "cell_type": "code",
   "execution_count": null,
   "metadata": {},
   "outputs": [],
   "source": [
    "[1 1 0]\n",
    "[1 1 1]"
   ]
  },
  {
   "cell_type": "code",
   "execution_count": null,
   "metadata": {},
   "outputs": [],
   "source": [
    "np.argsort(a)"
   ]
  },
  {
   "cell_type": "code",
   "execution_count": null,
   "metadata": {},
   "outputs": [],
   "source": [
    "for column in euclidean_distance.T:\n",
    "    print(np.argsort(column))"
   ]
  },
  {
   "cell_type": "code",
   "execution_count": null,
   "metadata": {},
   "outputs": [],
   "source": [
    "import numpy as np\n",
    "\n",
    "# Tu matriz original\n",
    "original_array = np.array([9, 4, 5, 0])\n",
    "\n",
    "# Obtén los índices que ordenan la matriz\n",
    "sorted_indices = np.argsort(original_array)\n",
    "\n",
    "sorted_indices"
   ]
  },
  {
   "cell_type": "code",
   "execution_count": null,
   "metadata": {},
   "outputs": [],
   "source": [
    "X = np.array([[0, 3, 0], [2, 0, 0], [0, 1, 3], [0, 1, 2], [-1, 0, 1], [1, 1, 1]])\n",
    "y = np.array([1, 0, 1, 1, 0, 1])\n",
    "\n",
    "X_test = np.array([[1, 1, 1], [2, 2, 2]])\n",
    "\n",
    "A = X\n",
    "B = X_test\n",
    "\n",
    "\n",
    "for row in X_test:\n",
    "    print(row)\n",
    "\n",
    "distancias = np.linalg.norm(A_rep - B_rep, axis=2)\n",
    "\n",
    "distancias"
   ]
  },
  {
   "cell_type": "code",
   "execution_count": null,
   "metadata": {},
   "outputs": [],
   "source": [
    "for row in X_test:\n",
    "    print(row)"
   ]
  },
  {
   "cell_type": "code",
   "execution_count": null,
   "metadata": {},
   "outputs": [],
   "source": [
    "path = \"https://raw.githubusercontent.com/kylebradbury/ids705/main/assignments/data/\"\n",
    "\n",
    "X_train_low = pd.read_csv(\n",
    "    path + \"A2_X_train_low.csv\",\n",
    "    header=None,\n",
    ").values\n",
    "\n",
    "y_train_low = pd.read_csv(\n",
    "    path + \"A2_y_train_low.csv\",\n",
    "    header=None,\n",
    ").values\n",
    "\n",
    "X_test_low = pd.read_csv(\n",
    "    path + \"A2_X_test_low.csv\",\n",
    "    header=None,\n",
    ").values\n",
    "\n",
    "y_test_low = pd.read_csv(\n",
    "    path + \"A2_y_test_low.csv\",\n",
    "    header=None,\n",
    ").values\n",
    "\n",
    "X_train_high = pd.read_csv(\n",
    "    path + \"A2_X_train_high.csv\",\n",
    "    header=None,\n",
    ").values\n",
    "\n",
    "y_train_high = pd.read_csv(\n",
    "    path + \"A2_y_train_high.csv\",\n",
    "    header=None,\n",
    ").values\n",
    "\n",
    "X_test_high = pd.read_csv(\n",
    "    path + \"A2_X_test_high.csv\",\n",
    "    header=None,\n",
    ").values\n",
    "\n",
    "y_test_high = pd.read_csv(\n",
    "    path + \"A2_y_test_high.csv\",\n",
    "    header=None,\n",
    ").values"
   ]
  },
  {
   "cell_type": "code",
   "execution_count": null,
   "metadata": {},
   "outputs": [],
   "source": [
    "X_test_low"
   ]
  },
  {
   "cell_type": "code",
   "execution_count": null,
   "metadata": {},
   "outputs": [],
   "source": [
    "y_train_low.shape"
   ]
  },
  {
   "attachments": {},
   "cell_type": "markdown",
   "metadata": {},
   "source": [
    "---\n",
    "\n",
    "## 5\n",
    "**[20 points] Bias-variance tradeoff: exploring the tradeoff with a KNN classifier**. This exercise will illustrate the impact of the bias-variance tradeoff on classifier performance by investigating how model flexibility impacts classifier decision boundaries. For this problem, please us Scikit-learn's KNN implementation rather than your own implementation, as you did at the end of the last question.\n",
    "\n",
    "**(a)** Create a synthetic dataset (with both features and targets). Use the [`make_moons`](http://scikit-learn.org/stable/modules/generated/sklearn.datasets.make_moons.html#sklearn.datasets.make_moons) module with the parameter `noise=0.35` to generate 1000 random samples.\n",
    "\n",
    "**(b)** Visualize your data: scatterplot your random samples with each class in a different color.\n",
    "\n",
    "**(c)** Create 3 different data subsets by selecting 100 of the 1000 data points at random three times (with replacement). For each of these 100-sample datasets, fit three separate k-Nearest Neighbor classifiers with: $k = \\{1, 25, 50\\}$. This will result in 9 combinations (3 datasets, each with 3 trained classifiers).\n",
    "\n",
    "**(d)** For each combination of dataset and trained classifier plot the decision boundary (similar in style to Figure 2.15 from *Introduction to Statistical Learning*). This should form a 3-by-3 grid. Each column should represent a different value of $k$ and each row should represent a different dataset. \n",
    "\n",
    "**(e)** What do you notice about the difference between the decision boundaries in the rows and the columns in your figure? Which decision boundaries appear to best separate the two classes of data with respect to the training data? Which decision boundaries vary the most as the training data change? Which decision boundaries do you anticipate will generalize best to unseen data and why?\n",
    "\n",
    "**(f)** Explain the bias-variance tradeoff using the example of the plots you made in this exercise and its implications for training supervised machine learning algorithms.\n",
    "\n",
    "Notes and tips for plotting decision boundaries (as in part d):\n",
    "- *Resource for plotting decision boundaries with meshgrid and contour: https://scikit-learn.org/stable/auto_examples/neighbors/plot_classification.html*\n",
    "- If you would like to change the colors of the background, and do not like any of the existing cmap available in matplotlib, you can make your own cmap using the 2 sets of rgb values. Sample code (replace r, g, b with respective rgb values):"
   ]
  },
  {
   "cell_type": "code",
   "execution_count": null,
   "metadata": {},
   "outputs": [],
   "source": [
    "from matplotlib.colors import LinearSegmentedColormap\n",
    "\n",
    "newcmp = LinearSegmentedColormap.from_list(\n",
    "    \"new\", [(r / 255, g / 255, b / 255), (r / 255, g / 255, b / 255)], N=2\n",
    ")"
   ]
  },
  {
   "cell_type": "code",
   "execution_count": null,
   "metadata": {},
   "outputs": [],
   "source": []
  },
  {
   "cell_type": "markdown",
   "metadata": {},
   "source": [
    "**ANSWER**"
   ]
  },
  {
   "attachments": {},
   "cell_type": "markdown",
   "metadata": {},
   "source": [
    "---\n",
    "\n",
    "## 6\n",
    "**[18 points] Bias-variance trade-off II: Quantifying the tradeoff**. This exercise explores the impact of the bias-variance tradeoff on classifier performance by looking at the performance on both training and test data.\n",
    "\n",
    "Here, the value of $k$ determines how flexible our model is.\n",
    "\n",
    "**(a)** Using the function created earlier to generate random samples (using the `make_moons` function setting the `noise` parameter to 0.35), create a new set of 1000 random samples, and call this dataset your test set and the previously created dataset your training set.\n",
    "\n",
    "**(b)** Train a kNN classifier on your training set for $k = 1,2,...500$. Apply each of these trained classifiers to both your training dataset and your test dataset and plot the classification error (fraction of incorrect predictions).\n",
    "\n",
    "**(c)** What trend do you see in the results?\n",
    "\n",
    "**(d)** What values of $k$ represent high bias and which represent high variance?\n",
    "\n",
    "**(e)** What is the optimal value of $k$ and why?\n",
    "\n",
    "**(f)** In KNN classifiers, the value of k controls the flexibility of the model - what controls the flexibility of other models?"
   ]
  },
  {
   "cell_type": "markdown",
   "metadata": {},
   "source": [
    "**ANSWER**"
   ]
  },
  {
   "attachments": {},
   "cell_type": "markdown",
   "metadata": {},
   "source": [
    "---\n",
    "\n",
    "## 7\n",
    "**[18 points] Linear regression and nonlinear transformations**. Linear regression can be used to model nonlinear relationships when feature variables are properly transformed to represent the nonlinearities in the data. In this exercise, you're given training and test data contained in files \"A2_Q7_train.csv\" and \"A2_Q7_test.csv\" in the \"data\" folder for this assignment. Your goal is to develop a regression algorithm from the training data that performs well on the test data.\n",
    "\n",
    "*Hint: Use the scikit learn [LinearRegression](http://scikit-learn.org/stable/modules/generated/sklearn.linear_model.LinearRegression.html) module.*\n",
    "\n",
    "**(a)** Create a scatter plot of your training data.\n",
    "\n",
    "**(b)** Estimate a linear regression model ($y = a_0 + a_1 x$) for the training data and calculate both the $R^2$ value and mean square error for the fit of that model for the training data. Also provide the equation representing the estimated model (e.g. $y = a_0 + a_1 x$, but with the estimated coefficients inserted. Consider this your baseline model against which you will compare other model options. *Evaluating performance on the training data is not a measure of how well this model would generalize to unseen data. We will evaluate performance on the test data once we see our models fit the training data decently well.*  \n",
    "\n",
    "**(c)** If features can be nonlinearly transformed, a linear model may incorporate those non-linear feature transformation relationships in the training process. From looking at the scatter plot of the training data, choose a transformation of the predictor variable, $x$ that may make sense for these data. This will be a multiple regression model of the form $y = a_0 + a_1 z_1 + a_2 z_2 + \\ldots + a_n z_n$. Here $z_i$ could be any transformations of x - perhaps it's $\\frac{1}{x}$, $log(x)$, $sin(x)$, $x^k$ (where $k$ is any power of your choosing). Provide the estimated equation for this multiple regression model (e.g. if you chose your predictors to be $z_1 = x$ and $z_2 = log(x)$, your model would be of the form $y = a_0 + a_1 x + a_2 log(x)$. Also provide the $R^2$ and mean square error of the fit for the training data.\n",
    "\n",
    "**(d)** Visualize the model fit to the training data. Using both of the models you created in parts (b) and (c), plot the original data (as a scatter plot) AND the curves representing your models (each as a separate curve) from (b) and (c).\n",
    "\n",
    "**(e)** Now its time to compare your models and evaluate the generalization performance on held out test data. Using the models above from (b) an (c), apply them to the test data and estimate the $R^2$ and mean square error of the test dataset.\n",
    "\n",
    "**(f)** Which models perform better on the training data, and which on the test data? Why?\n",
    "\n",
    "**(g)** Imagine that the test data were significantly different from the training dataset. How might this affect the predictive capability of your model? How would the accuracy of generalization performance be impacted? Why?\n",
    "\n",
    "*To help get you started - here's some code to help you load in the data for this exercise (you'll just need to update the path)*:"
   ]
  },
  {
   "cell_type": "code",
   "execution_count": null,
   "metadata": {},
   "outputs": [],
   "source": [
    "import numpy as np\n",
    "import pandas as pd\n",
    "\n",
    "path = \"./data/\"\n",
    "train = pd.read_csv(path + \"A2_Q7_train.csv\")\n",
    "test = pd.read_csv(path + \"A2_Q7_test.csv\")\n",
    "\n",
    "x_train = train.x.values\n",
    "y_train = train.y.values\n",
    "\n",
    "x_test = test.x.values\n",
    "y_test = test.y.values"
   ]
  },
  {
   "cell_type": "markdown",
   "metadata": {},
   "source": [
    "**ANSWER**"
   ]
  }
 ],
 "metadata": {
  "kernelspec": {
   "display_name": "base",
   "language": "python",
   "name": "python3"
  },
  "language_info": {
   "codemirror_mode": {
    "name": "ipython",
    "version": 3
   },
   "file_extension": ".py",
   "mimetype": "text/x-python",
   "name": "python",
   "nbconvert_exporter": "python",
   "pygments_lexer": "ipython3",
   "version": "3.11.5"
  },
  "varInspector": {
   "cols": {
    "lenName": 16,
    "lenType": 16,
    "lenVar": 40
   },
   "kernels_config": {
    "python": {
     "delete_cmd_postfix": "",
     "delete_cmd_prefix": "del ",
     "library": "var_list.py",
     "varRefreshCmd": "print(var_dic_list())"
    },
    "r": {
     "delete_cmd_postfix": ") ",
     "delete_cmd_prefix": "rm(",
     "library": "var_list.r",
     "varRefreshCmd": "cat(var_dic_list()) "
    }
   },
   "types_to_exclude": [
    "module",
    "function",
    "builtin_function_or_method",
    "instance",
    "_Feature"
   ],
   "window_display": false
  },
  "vscode": {
   "interpreter": {
    "hash": "f54e0b9f92ceb50229b3b7ea26b5d02f05ce8845dd8d997c014a0efede4c9c20"
   }
  }
 },
 "nbformat": 4,
 "nbformat_minor": 4
}
